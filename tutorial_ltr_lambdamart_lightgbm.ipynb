{
  "cells": [
    {
      "cell_type": "markdown",
      "metadata": {
        "id": "1M2MzD7R-qC0"
      },
      "source": [
        "#Tutorial Learning-to-Rank dengan LambdaMART\n",
        "Alfan F. Wicaksono (Fasilkom UI)"
      ]
    },
    {
      "cell_type": "markdown",
      "metadata": {
        "id": "R79Q9MNq_Gn2"
      },
      "source": [
        "# Training Dataset\n",
        "Kita gunakan dataset untuk learning-to-rank pada domain Medical Information Retrieval yang dapat diakses di: \n",
        "\n",
        "https://www.cl.uni-heidelberg.de/statnlpgroup/nfcorpus/\n",
        "\n",
        "Data dapat diunduh di:\n",
        "\n",
        "https://www.cl.uni-heidelberg.de/statnlpgroup/nfcorpus/nfcorpus.tar.gz\n",
        "\n",
        "Setelah diunduh, data kemudian diekstrak, dan pada tutorial kali ini, kita hanya tertarik pada tiga file (tab-separated format) untuk melakukan training sebuah model LambdaMART:\n",
        "\n",
        "\n",
        "1.   train.docs --> koleksi 3612 dokumen medis (FORMAT: DOC_ID <tab> CONTENT)\n",
        "2.   train.3-2-1.qrel --> relevant judgments (FORMAT: QUERY_ID <tab> 0 <tab> DOC_ID <tab> RELEVANCE_LEVEL)\n",
        "3.   train.vid-desc.queries --> 812 query (FORMAT: QUERY_ID <tab> QUERY_TEXT)\n",
        "\n",
        "\n"
      ]
    },
    {
      "cell_type": "code",
      "execution_count": null,
      "metadata": {
        "colab": {
          "base_uri": "https://localhost:8080/"
        },
        "id": "axvlLqdv-QJQ",
        "outputId": "e65b651a-d49c-41eb-d40f-8debac701fb7"
      },
      "outputs": [
        {
          "name": "stdout",
          "output_type": "stream",
          "text": [
            "--2022-11-06 14:17:43--  https://www.cl.uni-heidelberg.de/statnlpgroup/nfcorpus/nfcorpus.tar.gz\n",
            "Resolving www.cl.uni-heidelberg.de (www.cl.uni-heidelberg.de)... 147.142.207.78\n",
            "Connecting to www.cl.uni-heidelberg.de (www.cl.uni-heidelberg.de)|147.142.207.78|:443... connected.\n",
            "HTTP request sent, awaiting response... 200 OK\n",
            "Length: 31039523 (30M) [application/x-gzip]\n",
            "Saving to: ‘data/nfcorpus.tar.gz’\n",
            "\n",
            "nfcorpus.tar.gz     100%[===================>]  29.60M  12.1MB/s    in 2.4s    \n",
            "\n",
            "2022-11-06 14:17:48 (12.1 MB/s) - ‘data/nfcorpus.tar.gz’ saved [31039523/31039523]\n",
            "\n",
            "nfcorpus/\n",
            "nfcorpus/train.docs\n",
            "nfcorpus/test.docs\n",
            "nfcorpus/dev.docs\n",
            "nfcorpus/dev.3-2-1.qrel\n",
            "nfcorpus/test.3-2-1.qrel\n",
            "nfcorpus/train.3-2-1.qrel\n",
            "nfcorpus/raw/\n",
            "nfcorpus/raw/doc_dump.txt\n",
            "nfcorpus/raw/dev.docs.ids\n",
            "nfcorpus/raw/dev.queries.ids\n",
            "nfcorpus/raw/test.docs.ids\n",
            "nfcorpus/raw/test.queries.ids\n",
            "nfcorpus/raw/train.docs.ids\n",
            "nfcorpus/raw/train.queries.ids\n",
            "nfcorpus/raw/stopwords.large\n",
            "nfcorpus/raw/nfdump.txt\n",
            "nfcorpus/raw/all_videos.ids\n",
            "nfcorpus/raw/nontopics.ids\n",
            "nfcorpus/test.2-1-0.qrel\n",
            "nfcorpus/dev.2-1-0.qrel\n",
            "nfcorpus/train.2-1-0.qrel\n",
            "nfcorpus/ecir2016.bib\n",
            "nfcorpus/test.vid-desc.queries\n",
            "nfcorpus/dev.vid-desc.queries\n",
            "nfcorpus/train.vid-desc.queries\n",
            "nfcorpus/dev.all.queries\n",
            "nfcorpus/test.all.queries\n",
            "nfcorpus/train.all.queries\n",
            "nfcorpus/dev.vid-titles.queries\n",
            "nfcorpus/test.vid-titles.queries\n",
            "nfcorpus/train.vid-titles.queries\n",
            "nfcorpus/dev.titles.queries\n",
            "nfcorpus/test.titles.queries\n",
            "nfcorpus/train.titles.queries\n",
            "nfcorpus/dev.nontopic-titles.queries\n",
            "nfcorpus/test.nontopic-titles.queries\n",
            "nfcorpus/train.nontopic-titles.queries\n",
            "nfcorpus/README.txt\n"
          ]
        }
      ],
      "source": [
        "!wget -c https://www.cl.uni-heidelberg.de/statnlpgroup/nfcorpus/nfcorpus.tar.gz -P data\n",
        "!tar -xvf data/nfcorpus.tar.gz"
      ]
    },
    {
      "cell_type": "code",
      "execution_count": null,
      "metadata": {
        "colab": {
          "base_uri": "https://localhost:8080/"
        },
        "id": "clOa6iorBeX5",
        "outputId": "a406cde8-d16e-45d6-9d64-f11698eb6993"
      },
      "outputs": [
        {
          "name": "stdout",
          "output_type": "stream",
          "text": [
            "MED-10\tstatin breast cancer survival nationwide cohort study finland abstract recent studies suggested statins established drug group prevention cardiovascular mortality delay prevent breast cancer recurrence effect disease-specific mortality remains unclear evaluated risk breast cancer death statin users population-based cohort breast cancer patients study cohort included newly diagnosed breast cancer patients finland num num num cases identified finnish cancer registry information statin diagnosis obtained national prescription database cox proportional hazards regression method estimate mortality statin users statin time-dependent variable total num participants statins median follow-up num years diagnosis range num num years num participants died num num due breast cancer adjustment age tumor characteristics treatment selection post-diagnostic pre-diagnostic statin lowered risk breast cancer death hr num num ci num num hr num num ci num num risk decrease post-diagnostic statin affected healthy adherer bias greater likelihood dying cancer patients discontinue statin association dose-dependent observed low-dose/short-term dose time-dependence survival benefit pre-diagnostic statin users suggests causal effect evaluated clinical trial testing statins effect survival breast cancer patients \n",
            "MED-14\tstatin diagnosis breast cancer survival population-based cohort study pubmed ncbi abstract background preclinical studies shown statins simvastatin prevent growth breast cancer cell lines animal models investigated statins breast cancer diagnosis reduced risk breast cancer-specific all-cause mortality large cohort breast cancer patients methods cohort num breast cancer patients newly diagnosed num num identified english cancer registries national cancer data repository cohort linked uk clinical practice research datalink providing prescription records office national statistics mortality data num identifying num deaths including num deaths attributable breast cancer unadjusted adjusted hazard ratios hrs breast cancer-specific all-cause mortality statin users breast cancer diagnosis calculated time-dependent cox regression models sensitivity analyses conducted multiple imputation methods propensity score methods case-control approach results evidence statin diagnosis breast cancer reduced mortality due breast cancer fully adjusted hr num num confidence interval num num num num num associations marked simvastatin num num num num num num conclusions large population-based breast cancer cohort evidence reduced mortality statin users breast cancer diagnosis associations weak magnitude attenuated sensitivity analyses \n",
            "MED-118\talkylphenols human milk relations dietary habits central taiwan pubmed ncbi abstract aims study determine concentrations num nonylphenol np num octylphenol op num human milk samples examine related factors including mothers demographics dietary habits women consumed median amount cooking oil significantly higher op concentrations num ng/g consumed num ng/g num op concentration significantly consumption cooking oil beta num num fish oil capsules beta num num adjustment age body mass index bmi np concentration significantly consumption fish oil capsules beta num num processed fish products beta num num food pattern cooking oil processed meat products factor analysis strongly op concentration human milk num determinations aid suggesting foods consumption nursing mothers order protect infants np/op exposure num elsevier rights reserved \n",
            "MED-301\tmethylmercury potential environmental risk factor contributing epileptogenesis abstract epilepsy seizure disorder common neurological diseases humans genetic mutations ion channels receptors risk factors brain injury linked epileptogenesis underlying majority epilepsy cases remains unknown gene-environment interactions thought play critical role etiology epilepsy exposure environmental chemicals important risk factor methylmercury mehg prominent environmental neurotoxicant targets primarily central nervous system cns patients animals acute chronic mehg poisoning display epileptic seizures show increased susceptibility seizures suggesting mehg exposure epileptogenesis mini-review highlights effects mehg exposure developmental exposure susceptibility humans animals seizures discusses potential role low level mehg exposure epileptogenesis review proposes preferential effect mehg inhibitory gabaergic system leading disinhibition excitatory glutamatergic function potential mechanisms underlying mehg-induced seizure susceptibility \n",
            "MED-306\tsensitivity continuous performance test cpt age num years developmental methylmercury exposure abstract hit reaction time latencies hrt continuous performance test cpt measure speed visual information processing latencies involve neuropsychological functions depending time test initiation i e orientation learning habituation cognitive processing focused attention finally sustained attention dominant demand prenatal methylmercury exposure increased reaction time rt latencies examined association methylmercury exposure average hrt age num years time intervals test initiation total num adolescents num birth cohort members completed cpt rt latencies recorded num minutes visual targets presented num ms intervals confounder adjustment regression coefficients showed cpt-rt outcomes differed associations exposure biomarkers prenatal methylmercury exposure minutes average hrt weakly methylmercury beta se ten-fold increase exposure num num strongly num num minute interval num num strongest num num minutes test initiation num num pattern unchanged simple reaction time finger tapping speed included models covariates postnatal methylmercury exposures affect outcomes findings suggest sustained attention neuropsychological domain vulnerable developmental methylmercury exposure indicating probable underlying dysfunction frontal lobes cpt data measure neurotoxicity test results analyzed regard time test initiation average reaction times \n",
            "MED-329\tphosphate vascular toxin pubmed ncbi abstract elevated phosphate levels advanced renal failure dysregulated calcium parathyroid hormone vitamin levels contribute complex chronic kidney disease-mineral bone disease ckd-mbd converging evidence vitro clinical epidemiological studies suggest increased vascular calcification mortality vessels exposed high conditions vitro develop apoptosis convert bone-like cells develop extensive calcification clinical studies children dialysis show high increased vessel wall thickness arterial stiffness coronary calcification epidemiological studies adult dialysis patients demonstrate significant independent association raised mortality importantly raised cardiovascular pre-dialysis ckd subjects normal renal function high binders effectively reduce serum decrease linked improved survival raised serum triggers release fibroblast growth factor num fgf num beneficial effect increasing excretion early ckd increased num fold dialysis independent cardiovascular risk factor fgf num co-receptor klotho direct effects vasculature leading calcification fascinatingly disturbances fgf num klotho raised premature aging data suggest high levels adverse vascular effects maintaining serum levels normal range reduces cardiovascular risk mortality \n",
            "MED-330\tdietary phosphorus acutely impairs endothelial function abstract excessive dietary phosphorus increase cardiovascular risk healthy individuals patients chronic kidney disease mechanisms underlying risk completely understood determine postprandial hyperphosphatemia promote endothelial dysfunction investigated acute effect phosphorus loading endothelial function vitro vivo exposing bovine aortic endothelial cells phosphorus load increased production reactive oxygen species depended phosphorus influx sodium-dependent phosphate transporters decreased nitric oxide production inhibitory phosphorylation endothelial nitric oxide synthase phosphorus loading inhibited endothelium-dependent vasodilation rat aortic rings num healthy men alternately served meals num mg num mg phosphorus double-blind crossover study measured flow-mediated dilation brachial artery num meals high dietary phosphorus load increased serum phosphorus num significantly decreased flow-mediated dilation flow-mediated dilation correlated inversely serum phosphorus findings suggest endothelial dysfunction mediated acute postprandial hyperphosphatemia contribute relationship serum phosphorus level risk cardiovascular morbidity mortality \n",
            "MED-332\tpublic health impact dietary phosphorus excess bone cardiovascular health general population pubmed ncbi abstract review explores potential adverse impact increasing phosphorus content american diet renal cardiovascular bone health general population increasingly studies show phosphorus intakes excess nutrient healthy population significantly disrupt hormonal regulation phosphate calcium vitamin contributes disordered mineral metabolism vascular calcification impaired kidney function bone loss large epidemiologic studies suggest mild elevations serum phosphate normal range cardiovascular disease cvd risk healthy populations evidence kidney disease studies linked high dietary phosphorus intake mild serum phosphate nature study design inaccuracies nutrient composition databases phosphorus essential nutrient excess linked tissue damage variety mechanisms involved endocrine regulation extracellular phosphate specifically secretion action fibroblast growth factor num parathyroid hormone disordered regulation hormones high dietary phosphorus key factors contributing renal failure cvd osteoporosis systematically underestimated national surveys phosphorus intake seemingly continues increase result growing consumption highly processed foods restaurant meals fast foods convenience foods increased cumulative ingredients phosphorus food processing merits study shown potential toxicity phosphorus intake exceeds nutrient \n",
            "MED-334\tdifferences total vitro digestible phosphorus content plant foods beverages pubmed ncbi abstract objective plant foods grain products legumes seeds important sources phosphorus current data content absorbability foods lacking measurement vitro digestible dp content foods reflect absorbability objective study measure total phosphorus tp dp contents selected foods compare amounts tp dp proportion dp tp foods methods tp dp content num foods drinks plant origin measured inductively coupled plasma optical emission spectrometry dp analysis samples digested enzymatically principle alimentary canal analyses popular national brands chosen analysis results highest amount tp num mg num found sesame seeds hull lowest percentage dp num tp cola drinks beer percentage dp tp num num num mg num cereal products highest tp content num mg num dp proportion num present industrial muffins sodium phosphate leavening agent legumes contained average dp content num mg num num tp conclusion absorbability differ substantially plant foods high tp content legumes poor source foods phosphate additives proportion dp high supports previous conclusions effective absorbability additives copyright num national kidney foundation published elsevier rights reserved \n",
            "MED-335\tdifferences total vitro digestible phosphorus content meat milk products pubmed ncbi abstract objective meat milk products important sources dietary phosphorus protein additives common processed cheese meat products measurement vitro digestible phosphorus dp content foods reflect absorbability objective study measure total phosphorus tp dp contents selected meat milk products compare amounts tp dp proportion dp tp foods methods tp dp contents num meat milk products measured inductively coupled plasma optical emission spectrometry icp-oes dp analysis samples digested enzymatically principle alimentary canal analyses popular national brands meat milk products chosen analysis results highest tp dp contents found processed hard cheeses lowest milk cottage cheese tp dp contents sausages cold cuts lower cheeses chicken pork beef rainbow trout contained similar amounts tp slightly variation found dp contents conclusions foods additives high content dp study confirms cottage cheese unenhanced meats choices processed hard cheeses sausages cold cuts chronic kidney disease patients based lower p-to-protein ratios sodium contents results support previous findings absorbability foods animal origin legumes copyright num national kidney foundation published elsevier rights reserved \n"
          ]
        }
      ],
      "source": [
        "# training data yang sudah terekstraksi ada di direktori nfcorpus\n",
        "\n",
        "# intip 10 baris pertama di train.docs\n",
        "!head -10 nfcorpus/train.docs"
      ]
    },
    {
      "cell_type": "code",
      "execution_count": null,
      "metadata": {
        "colab": {
          "base_uri": "https://localhost:8080/"
        },
        "id": "weytQkpIDln7",
        "outputId": "3657b75f-5f93-4b98-c469-a2cda0167417"
      },
      "outputs": [
        {
          "name": "stdout",
          "output_type": "stream",
          "text": [
            "PLAIN-3\t0\tMED-2436\t3\n",
            "PLAIN-3\t0\tMED-2437\t3\n",
            "PLAIN-3\t0\tMED-2438\t3\n",
            "PLAIN-3\t0\tMED-2439\t3\n",
            "PLAIN-3\t0\tMED-2440\t3\n",
            "PLAIN-3\t0\tMED-2427\t2\n",
            "PLAIN-3\t0\tMED-2428\t2\n",
            "PLAIN-3\t0\tMED-2429\t2\n",
            "PLAIN-3\t0\tMED-2430\t2\n",
            "PLAIN-3\t0\tMED-2431\t2\n"
          ]
        }
      ],
      "source": [
        "!head -10 nfcorpus/train.3-2-1.qrel"
      ]
    },
    {
      "cell_type": "code",
      "execution_count": null,
      "metadata": {
        "colab": {
          "base_uri": "https://localhost:8080/"
        },
        "id": "kc2WygaUDvyk",
        "outputId": "1c193592-6eea-46d3-b54e-978bf49ac324"
      },
      "outputs": [
        {
          "name": "stdout",
          "output_type": "stream",
          "text": [
            "PLAIN-2427\tdiet and exercise synergize to improve endothelial function , the ability of our arteries to relax normally .\n",
            "PLAIN-2428\tthe parable of the tiny parachute explains the study that found no relationship between dietary fiber intake and diverticulosis .\n",
            "PLAIN-2431\tpbde fire retardant chemicals in the food supply may contribute to attention and cognitive deficits in children .\n",
            "PLAIN-2432\tpeppermint essential oil should be considered the first-line treatment for ibs .\n",
            "PLAIN-2433\tthe reversal of blindness due to hypertension and diabetes with dr. kempner ’ s rice and fruit diet demonstrates the power of diet to exceed the benefits of the best modern medicine and surgery has to offer .\n",
            "PLAIN-2434\tsquatting and leaning can help straighten the anorectal angle , but a healthy enough diet should make bowel movements effortless regardless of positioning .\n",
            "PLAIN-2435\tmost people have between 3 bowel movements a day and 3 a week , but normal doesn ’ t necessarily mean optimal .\n",
            "PLAIN-2436\tlifestyle changes are often more effective in reducing the rates of heart disease , hypertension , heart failure , stroke , cancer , diabetes , and premature death than almost any other medical intervention .\n",
            "PLAIN-2437\twhat happened when the world health organization had the gall to recommend a diet low in saturated fat , sugar , and salt and high in fruit and vegetables ?\n",
            "PLAIN-2438\tsaturated fat can be toxic to the insulin-producing beta cells in the pancreas , explaining why animal fat consumption can impair insulin secretion , not just insulin sensitivity .\n"
          ]
        }
      ],
      "source": [
        "!head -10 nfcorpus/train.vid-desc.queries "
      ]
    },
    {
      "cell_type": "code",
      "execution_count": null,
      "metadata": {
        "colab": {
          "base_uri": "https://localhost:8080/"
        },
        "id": "wdZ5LzgiFJd8",
        "outputId": "e843469c-7c26-4a6b-e511-c45c4ac7b94b"
      },
      "outputs": [
        {
          "name": "stdout",
          "output_type": "stream",
          "text": [
            "['phosphate', 'vascular', 'toxin', 'pubmed', 'ncbi', 'abstract', 'elevated', 'phosphate', 'levels', 'advanced', 'renal', 'failure', 'dysregulated', 'calcium', 'parathyroid', 'hormone', 'vitamin', 'levels', 'contribute', 'complex', 'chronic', 'kidney', 'disease-mineral', 'bone', 'disease', 'ckd-mbd', 'converging', 'evidence', 'vitro', 'clinical', 'epidemiological', 'studies', 'suggest', 'increased', 'vascular', 'calcification', 'mortality', 'vessels', 'exposed', 'high', 'conditions', 'vitro', 'develop', 'apoptosis', 'convert', 'bone-like', 'cells', 'develop', 'extensive', 'calcification', 'clinical', 'studies', 'children', 'dialysis', 'show', 'high', 'increased', 'vessel', 'wall', 'thickness', 'arterial', 'stiffness', 'coronary', 'calcification', 'epidemiological', 'studies', 'adult', 'dialysis', 'patients', 'demonstrate', 'significant', 'independent', 'association', 'raised', 'mortality', 'importantly', 'raised', 'cardiovascular', 'pre-dialysis', 'ckd', 'subjects', 'normal', 'renal', 'function', 'high', 'binders', 'effectively', 'reduce', 'serum', 'decrease', 'linked', 'improved', 'survival', 'raised', 'serum', 'triggers', 'release', 'fibroblast', 'growth', 'factor', 'num', 'fgf', 'num', 'beneficial', 'effect', 'increasing', 'excretion', 'early', 'ckd', 'increased', 'num', 'fold', 'dialysis', 'independent', 'cardiovascular', 'risk', 'factor', 'fgf', 'num', 'co-receptor', 'klotho', 'direct', 'effects', 'vasculature', 'leading', 'calcification', 'fascinatingly', 'disturbances', 'fgf', 'num', 'klotho', 'raised', 'premature', 'aging', 'data', 'suggest', 'high', 'levels', 'adverse', 'vascular', 'effects', 'maintaining', 'serum', 'levels', 'normal', 'range', 'reduces', 'cardiovascular', 'risk', 'mortality']\n",
            "['dietary', 'phosphorus', 'acutely', 'impairs', 'endothelial', 'function', 'abstract', 'excessive', 'dietary', 'phosphorus', 'increase', 'cardiovascular', 'risk', 'healthy', 'individuals', 'patients', 'chronic', 'kidney', 'disease', 'mechanisms', 'underlying', 'risk', 'completely', 'understood', 'determine', 'postprandial', 'hyperphosphatemia', 'promote', 'endothelial', 'dysfunction', 'investigated', 'acute', 'effect', 'phosphorus', 'loading', 'endothelial', 'function', 'vitro', 'vivo', 'exposing', 'bovine', 'aortic', 'endothelial', 'cells', 'phosphorus', 'load', 'increased', 'production', 'reactive', 'oxygen', 'species', 'depended', 'phosphorus', 'influx', 'sodium-dependent', 'phosphate', 'transporters', 'decreased', 'nitric', 'oxide', 'production', 'inhibitory', 'phosphorylation', 'endothelial', 'nitric', 'oxide', 'synthase', 'phosphorus', 'loading', 'inhibited', 'endothelium-dependent', 'vasodilation', 'rat', 'aortic', 'rings', 'num', 'healthy', 'men', 'alternately', 'served', 'meals', 'num', 'mg', 'num', 'mg', 'phosphorus', 'double-blind', 'crossover', 'study', 'measured', 'flow-mediated', 'dilation', 'brachial', 'artery', 'num', 'meals', 'high', 'dietary', 'phosphorus', 'load', 'increased', 'serum', 'phosphorus', 'num', 'significantly', 'decreased', 'flow-mediated', 'dilation', 'flow-mediated', 'dilation', 'correlated', 'inversely', 'serum', 'phosphorus', 'findings', 'suggest', 'endothelial', 'dysfunction', 'mediated', 'acute', 'postprandial', 'hyperphosphatemia', 'contribute', 'relationship', 'serum', 'phosphorus', 'level', 'risk', 'cardiovascular', 'morbidity', 'mortality']\n"
          ]
        }
      ],
      "source": [
        "documents = {}\n",
        "with open(\"nfcorpus/train.docs\") as file:\n",
        "  for line in file:\n",
        "    doc_id, content = line.split(\"\\t\")\n",
        "    documents[doc_id] = content.split()\n",
        "\n",
        "# test untuk melihat isi dari 2 dokumen\n",
        "print(documents[\"MED-329\"])\n",
        "print(documents[\"MED-330\"])"
      ]
    },
    {
      "cell_type": "code",
      "execution_count": null,
      "metadata": {
        "colab": {
          "base_uri": "https://localhost:8080/"
        },
        "id": "-Otvc9sJJsSe",
        "outputId": "69aa7d5c-856f-4229-ee95-1bae16227c36"
      },
      "outputs": [
        {
          "name": "stdout",
          "output_type": "stream",
          "text": [
            "['the', 'parable', 'of', 'the', 'tiny', 'parachute', 'explains', 'the', 'study', 'that', 'found', 'no', 'relationship', 'between', 'dietary', 'fiber', 'intake', 'and', 'diverticulosis', '.']\n",
            "['most', 'people', 'have', 'between', '3', 'bowel', 'movements', 'a', 'day', 'and', '3', 'a', 'week', ',', 'but', 'normal', 'doesn', '’', 't', 'necessarily', 'mean', 'optimal', '.']\n"
          ]
        }
      ],
      "source": [
        "queries = {}\n",
        "with open(\"nfcorpus/train.vid-desc.queries\") as file:\n",
        "  for line in file:\n",
        "    q_id, content = line.split(\"\\t\")\n",
        "    queries[q_id] = content.split()\n",
        "\n",
        "# test untuk melihat isi dari 2 query\n",
        "print(queries[\"PLAIN-2428\"])\n",
        "print(queries[\"PLAIN-2435\"])"
      ]
    },
    {
      "cell_type": "code",
      "execution_count": null,
      "metadata": {
        "colab": {
          "base_uri": "https://localhost:8080/"
        },
        "id": "vKAwu1KvxqRF",
        "outputId": "919ab5b5-be3a-4c37-c339-3fd2ccfe9739"
      },
      "outputs": [
        {
          "name": "stdout",
          "output_type": "stream",
          "text": [
            "number of Q-D pairs: 28277\n",
            "group_qid_count: [102, 16, 48, 68, 37, 17, 32, 37, 28, 64, 22, 35, 74, 73, 66, 30, 46, 48, 62, 71, 58, 90, 63, 43, 60, 51, 71, 54, 32, 40, 36, 44, 85, 38, 35, 83, 62, 56, 37, 42, 49, 96, 41, 32, 14, 50, 22, 14, 18, 26, 65, 25, 41, 81, 42, 39, 58, 23, 110, 25, 37, 67, 62, 44, 53, 51, 15, 42, 52, 76, 20, 52, 103, 53, 58, 25, 34, 19, 33, 25, 36, 69, 106, 58, 82, 17, 48, 92, 72, 18, 65, 94, 82, 36, 42, 52, 39, 24, 42, 45, 50, 50, 59, 8, 36, 66, 28, 50, 48, 44, 22, 90, 25, 56, 59, 39, 34, 39, 55, 34, 20, 21, 44, 29, 31, 51, 39, 105, 52, 57, 107, 75, 45, 40, 72, 45, 53, 53, 50, 120, 38, 65, 84, 48, 50, 66, 21, 61, 27, 38, 84, 66, 42, 11, 46, 68, 16, 33, 85, 50, 65, 50, 60, 21, 41, 29, 53, 92, 12, 16, 63, 42, 48, 43, 5, 45, 21, 47, 35, 31, 40, 26, 43, 18, 35, 21, 77, 10, 79, 45, 25, 47, 24, 38, 11, 34, 26, 32, 25, 12, 13, 44, 22, 29, 26, 45, 23, 22, 24, 38, 49, 18, 42, 64, 26, 49, 80, 84, 56, 50, 83, 44, 65, 13, 43, 29, 20, 28, 71, 82, 43, 84, 42, 50, 24, 56, 41, 24, 28, 52, 41, 60, 45, 43, 40, 37, 33, 44, 80, 44, 41, 47, 49, 52, 34, 33, 58, 80, 61, 33, 44, 55, 77, 24, 25, 16, 42, 43, 61, 29, 27, 20, 32, 56, 34, 69, 20, 34, 46, 34, 43, 18, 33, 43, 30, 10, 26, 54, 65, 48, 30, 19, 17, 13, 28, 16, 24, 58, 29, 28, 31, 39, 26, 13, 41, 31, 4, 11, 39, 22, 24, 33, 28, 27, 40, 18, 36, 64, 36, 24, 90, 24, 6, 12, 4, 5, 31, 9, 4, 7, 108, 15, 14, 16, 3, 26, 10, 14, 17, 28, 9, 19, 21, 5, 70, 7, 8, 26, 7, 38, 23, 19, 21, 24, 39, 7, 14, 14, 18, 31, 12, 130, 23, 7, 33, 30, 28, 32, 49, 10, 84, 58, 37, 35, 37, 40, 29, 33, 65, 12, 25, 26, 2, 11, 4, 82, 12, 357, 49, 29, 54, 3, 31, 31, 27, 12, 20, 17, 22, 214, 38, 12, 85, 41, 18, 26, 7, 22, 47, 32, 35, 14, 11, 8, 23, 20, 21, 20, 14, 29, 20, 26, 5, 12, 15, 4, 15, 9, 13, 12, 43, 9, 11, 22, 4, 11, 12, 10, 3, 5, 10, 11, 11, 2, 25, 28, 4, 2, 2, 9, 36, 6, 2, 5, 37, 2, 3, 3, 3, 6, 10, 13, 5, 3, 2, 4, 3, 14, 7, 5, 4, 2, 2, 22, 4, 26, 2, 10, 6, 12, 3, 5, 8, 5, 3, 4, 3, 5, 15, 3, 4, 2, 6, 8, 2, 7, 5, 8, 6, 3, 15, 8, 2, 24, 6, 2, 24, 29, 75, 37, 271, 4, 6, 43, 2, 2, 4, 15, 4, 3, 6, 4, 3, 25, 5, 25, 3, 4, 5, 44, 19, 2, 5, 2, 29, 23, 54, 25, 32, 25, 11, 21, 45, 48, 32, 60, 21, 19, 64, 67, 55, 65, 39, 58, 19, 31, 52, 37, 51, 14, 17, 20, 37, 22, 15, 18, 18, 43, 43, 42, 45, 11, 28, 5, 17, 36, 56, 19, 19, 14, 52, 7, 36, 54, 15, 25, 22, 55, 42, 11, 34, 15, 63, 6, 36, 48, 62, 6, 27, 2, 7, 9, 23, 16, 18, 14, 33, 17, 53, 248, 12, 47, 37, 17, 62, 23, 47, 51, 53, 153, 18, 139, 32, 52, 16, 10, 36, 33, 37, 11, 4, 23, 41, 15, 269, 38, 42, 34, 24, 21, 3, 21, 57, 27, 29, 17, 18, 10, 56, 6, 29, 29, 32, 35, 61, 63, 7, 115, 7, 6, 18, 4, 6, 34, 30, 10, 2, 180, 12, 32, 36, 41, 9, 15, 40, 57, 54, 32, 7, 15, 20, 19, 12, 24, 26, 9, 24, 68, 29, 5, 16, 16, 45, 63, 99, 37, 44, 34, 38, 19, 10, 24, 5, 77, 42, 22, 13, 12, 8, 20, 59, 2, 9, 17, 19, 2, 90, 15, 12, 51, 36, 9, 50, 33, 34, 9, 19, 13, 7, 35, 35, 15, 13, 3, 2, 26, 4, 39, 55, 23, 139, 33, 30, 27, 23, 48, 16, 19, 20, 26, 31, 26, 27, 13, 20, 19, 23, 4, 17, 33, 58, 54, 34, 112, 34, 20, 3, 14, 13, 52, 10, 19, 3, 3, 10, 152, 14, 20, 35, 13, 47, 8, 39, 19, 20, 66, 40, 9, 27, 15, 31, 8, 27, 29, 44, 90, 78, 102, 39, 53, 44, 120, 34, 18, 82, 32, 29, 22, 22, 22, 60, 84]\n",
            "[(['diet', 'and', 'exercise', 'synergize', 'to', 'improve', 'endothelial', 'function', ',', 'the', 'ability', 'of', 'our', 'arteries', 'to', 'relax', 'normally', '.'], ['curcumin', 'ingestion', 'exercise', 'training', 'improve', 'vascular', 'endothelial', 'function', 'postmenopausal', 'women', 'pubmed', 'ncbi', 'abstract', 'vascular', 'endothelial', 'function', 'declines', 'aging', 'increased', 'risk', 'cardiovascular', 'disease', 'lifestyle', 'modification', 'aerobic', 'exercise', 'dietary', 'adjustment', 'favorable', 'effect', 'vascular', 'aging', 'curcumin', 'major', 'component', 'turmeric', 'anti-inflammatory', 'anti-oxidative', 'effects', 'investigated', 'effects', 'curcumin', 'ingestion', 'aerobic', 'exercise', 'training', 'flow-mediated', 'dilation', 'indicator', 'endothelial', 'function', 'postmenopausal', 'women', 'total', 'num', 'postmenopausal', 'women', 'assigned', 'num', 'groups', 'control', 'exercise', 'curcumin', 'groups', 'curcumin', 'group', 'ingested', 'curcumin', 'orally', 'num', 'weeks', 'exercise', 'group', 'underwent', 'moderate', 'aerobic', 'exercise', 'training', 'num', 'weeks', 'intervention', 'flow-mediated', 'dilation', 'measured', 'difference', 'baseline', 'flow-mediated', 'dilation', 'key', 'dependent', 'variables', 'detected', 'groups', 'flow-mediated', 'dilation', 'increased', 'significantly', 'equally', 'curcumin', 'exercise', 'groups', 'observed', 'control', 'group', 'results', 'curcumin', 'ingestion', 'aerobic', 'exercise', 'training', 'increase', 'flow-mediated', 'dilation', 'postmenopausal', 'women', 'suggesting', 'potentially', 'improve', 'age-related', 'decline', 'endothelial', 'function', 'copyright', 'num', 'elsevier', 'rights', 'reserved'], 3), (['diet', 'and', 'exercise', 'synergize', 'to', 'improve', 'endothelial', 'function', ',', 'the', 'ability', 'of', 'our', 'arteries', 'to', 'relax', 'normally', '.'], ['endothelial', 'dysfunction', 'early', 'predictor', 'atherosclerosis', 'abstract', 'abstract', 'discovery', 'num', 'nitric', 'oxide', 'fact', 'elusive', 'endothelium-derived', 'relaxing', 'factor', 'evident', 'major', 'cardiovascular', 'signalling', 'molecule', 'bioavailability', 'crucial', 'determining', 'atherosclerosis', 'develop', 'sustained', 'high', 'levels', 'harmful', 'circulating', 'stimuli', 'cardiovascular', 'risk', 'factors', 'diabetes', 'mellitus', 'elicit', 'responses', 'endothelial', 'cells', 'sequentially', 'endothelial', 'cell', 'activation', 'endothelial', 'dysfunction', 'ed', 'ed', 'characterised', 'reduced', 'bioavailability', 'recognised', 'early', 'reversible', 'precursor', 'atherosclerosis', 'pathogenesis', 'ed', 'multifactorial', 'oxidative', 'stress', 'appears', 'common', 'underlying', 'cellular', 'mechanism', 'ensuing', 'loss', 'vaso-active', 'inflammatory', 'haemostatic', 'redox', 'homeostasis', 'body', 'vascular', 'system', 'role', 'ed', 'pathophysiological', 'link', 'early', 'endothelial', 'cell', 'cardiovascular', 'risk', 'factors', 'development', 'ischaemic', 'heart', 'disease', 'importance', 'basic', 'scientists', 'clinicians', 'alike'], 3)]\n"
          ]
        }
      ],
      "source": [
        "# melalui qrels, kita akan buat sebuah dataset untuk training\n",
        "# LambdaMART model dengan format\n",
        "#\n",
        "# [(query_text, document_text, relevance), ...]\n",
        "#\n",
        "# relevance awalnya bernilai 1, 2, 3 --> tidak perlu dinormalisasi\n",
        "# biarkan saja integer (syarat dari library LightGBM untuk\n",
        "# LambdaRank)\n",
        "#\n",
        "# relevance level: 3 (fully relevant), 2 (partially relevant), 1 (marginally relevant)\n",
        "import random\n",
        "\n",
        "NUM_NEGATIVES = 1\n",
        "\n",
        "q_docs_rel = {} # grouping by q_id terlebih dahulu\n",
        "with open(\"nfcorpus/train.3-2-1.qrel\") as file:\n",
        "  for line in file:\n",
        "    q_id, _, doc_id, rel = line.split(\"\\t\")\n",
        "    if (q_id in queries) and (doc_id in documents):\n",
        "      if q_id not in q_docs_rel:\n",
        "        q_docs_rel[q_id] = []\n",
        "      q_docs_rel[q_id].append((doc_id, int(rel)))\n",
        "\n",
        "# group_qid_count untuk model LGBMRanker\n",
        "group_qid_count = []\n",
        "dataset = []\n",
        "for q_id in q_docs_rel:\n",
        "  docs_rels = q_docs_rel[q_id]\n",
        "  group_qid_count.append(len(docs_rels) + NUM_NEGATIVES)\n",
        "  for doc_id, rel in docs_rels:\n",
        "    dataset.append((queries[q_id], documents[doc_id], rel))\n",
        "  # tambahkan satu negative (random sampling saja dari documents)\n",
        "  dataset.append((queries[q_id], random.choice(list(documents.values())), 0))\n",
        "\n",
        "# test\n",
        "print(\"number of Q-D pairs:\", len(dataset))\n",
        "print(\"group_qid_count:\", group_qid_count)\n",
        "assert sum(group_qid_count) == len(dataset), \"ada yang salah\"\n",
        "print(dataset[:2])"
      ]
    },
    {
      "cell_type": "markdown",
      "metadata": {
        "id": "dArtNc7WCr1I"
      },
      "source": [
        "# Installing Library"
      ]
    },
    {
      "cell_type": "code",
      "execution_count": null,
      "metadata": {
        "colab": {
          "base_uri": "https://localhost:8080/"
        },
        "id": "tCa9_A2FCyaz",
        "outputId": "d20609d5-aad7-4f85-d840-3159e3c8328c"
      },
      "outputs": [
        {
          "name": "stdout",
          "output_type": "stream",
          "text": [
            "Looking in indexes: https://pypi.org/simple, https://us-python.pkg.dev/colab-wheels/public/simple/\n",
            "Requirement already satisfied: lightgbm in /usr/local/lib/python3.7/dist-packages (2.2.3)\n",
            "Requirement already satisfied: scikit-learn in /usr/local/lib/python3.7/dist-packages (from lightgbm) (1.0.2)\n",
            "Requirement already satisfied: scipy in /usr/local/lib/python3.7/dist-packages (from lightgbm) (1.7.3)\n",
            "Requirement already satisfied: numpy in /usr/local/lib/python3.7/dist-packages (from lightgbm) (1.21.6)\n",
            "Requirement already satisfied: threadpoolctl>=2.0.0 in /usr/local/lib/python3.7/dist-packages (from scikit-learn->lightgbm) (3.1.0)\n",
            "Requirement already satisfied: joblib>=0.11 in /usr/local/lib/python3.7/dist-packages (from scikit-learn->lightgbm) (1.2.0)\n"
          ]
        }
      ],
      "source": [
        "!pip install lightgbm"
      ]
    },
    {
      "cell_type": "code",
      "execution_count": null,
      "metadata": {
        "colab": {
          "base_uri": "https://localhost:8080/"
        },
        "id": "dpUv0YPJC4Bw",
        "outputId": "15512a74-3264-4191-d0d2-23621534c6d6"
      },
      "outputs": [
        {
          "name": "stdout",
          "output_type": "stream",
          "text": [
            "Looking in indexes: https://pypi.org/simple, https://us-python.pkg.dev/colab-wheels/public/simple/\n",
            "Requirement already satisfied: gensim in /usr/local/lib/python3.7/dist-packages (3.6.0)\n",
            "Requirement already satisfied: smart-open>=1.2.1 in /usr/local/lib/python3.7/dist-packages (from gensim) (5.2.1)\n",
            "Requirement already satisfied: six>=1.5.0 in /usr/local/lib/python3.7/dist-packages (from gensim) (1.15.0)\n",
            "Requirement already satisfied: numpy>=1.11.3 in /usr/local/lib/python3.7/dist-packages (from gensim) (1.21.6)\n",
            "Requirement already satisfied: scipy>=0.18.1 in /usr/local/lib/python3.7/dist-packages (from gensim) (1.7.3)\n"
          ]
        }
      ],
      "source": [
        "!pip install gensim"
      ]
    },
    {
      "cell_type": "code",
      "execution_count": null,
      "metadata": {
        "id": "_oYOwPajEIqR"
      },
      "outputs": [],
      "source": [
        "import lightgbm as lgb\n",
        "import numpy as np\n",
        "\n",
        "from gensim.models import TfidfModel\n",
        "from gensim.models import LsiModel\n",
        "from gensim.corpora import Dictionary"
      ]
    },
    {
      "cell_type": "markdown",
      "metadata": {
        "id": "0Y3hHALIETGd"
      },
      "source": [
        "# Building LSI/LSA Model\n",
        "Kita akan buat Latent Semantic Indexing/Analysis (LSI/A) model untuk representasi dokumen menggunakan semua 3612 dokumen yang ada di train.docs. 812 queries yang ada di train.vid-desc.queries nantinya akan dipetakan ke dimensi space TF-IDF yang dibangun dari koleksi 3612 dokumen sebelumnya."
      ]
    },
    {
      "cell_type": "code",
      "execution_count": null,
      "metadata": {
        "colab": {
          "base_uri": "https://localhost:8080/"
        },
        "id": "hPcAZDWME-XG",
        "outputId": "58880de7-8303-4614-9fc3-a6969f38dd77"
      },
      "outputs": [
        {
          "name": "stderr",
          "output_type": "stream",
          "text": [
            "WARNING:gensim.models.lsimodel:no word id mapping provided; initializing from corpus, assuming identity\n"
          ]
        },
        {
          "name": "stdout",
          "output_type": "stream",
          "text": [
            "[5.9207874649414505, -3.1358543082589088, -2.6077567003839732, 0.6843319142545866, -1.8058665544513566, -2.381580532138159, -1.4732444657643051, -0.27873127872227144, 0.5551310779832449, -1.3395383197884914, -0.7153786683992718, 0.4581364420247896, -1.6566098843650232, -0.2913277536833165, -1.7412154350070537, 0.7543792588118651, 0.7469511741255683, 1.0829986220643602, -1.063502185815146, -1.0675383991453011, -0.1631987326710983, 1.7016046961678888, -1.4945021328851116, -1.514737664397233, -0.5818601019597628, 1.562891894908965, 0.9544145993805866, 0.027280683764285833, 0.12542366495340607, 0.4233737586937925, -0.10745374857244488, -1.5077519876868772, -0.4904822510102606, -1.4728540784057986, 1.2156064339537072, -0.1407798072981922, 0.9517791544423931, -1.9355748215425737, -1.2736212604711388, 0.3394980986622505, -1.533577326385445, -0.03246346472893277, 0.08378221760756216, -0.4696648243618851, 0.3525599514475394, -1.2609080061958933, 1.0128613610507977, 0.759220720711047, 0.8912536899326289, -0.08769296477502139, -1.3100826597708266, -0.8839703174683985, -0.2908971166770412, 1.1325324409718842, 0.7631954516322188, 0.16370341855671725, -0.7535708283968217, -0.5581597577271532, -0.4316893097441788, 0.8082273027565944, 0.20546582644589906, 0.15719709881566152, -0.6709296023090464, 1.0220777164454422, 0.4068200588768518, 1.2973059309400208, 0.539369538466261, -0.06254888737099094, -1.005876894946242, 0.18392659605118925, 1.2704886931971167, -0.6094255186573919, 0.7410687375381098, 0.8532102554584138, -0.20793948446062893, -0.04101938544734737, -0.08413120175060751, -0.9060399848497839, -1.107008035643804, 0.768343106556213, 0.01728505170099294, 0.0956072405792872, -0.09688008179211352, -1.0369522536539755, -0.32749007536328323, 0.32572989492296356, -0.8036713839052181, -0.1899633763358968, 0.7077509320024515, 0.5301481911498879, 0.27726610208557206, -0.6764643801102381, -0.1289407612295924, 0.5599983605500164, 0.825922513480161, 0.04314951853950428, 0.5106109450282678, -0.4396059726535655, 0.6716583579491835, 0.41389266072545605, -0.7800233834669986, 0.0429904659518326, -0.5881711427578712, 0.17617801382075332, 0.2473580346976986, 0.06744758128648669, -0.19305953231918602, 0.12707137503931284, -0.02698857429184682, 0.13198911118662685, 0.5679795899752977, 0.6954428590765424, -0.1394282007148834, -0.1058301160099721, 0.7261715526071805, -0.7228792115172135, -0.28037199275228125, -0.2332686821875333, 0.902031736575649, -0.6598051723678626, -0.3019181371425208, -0.1398511928326017, -0.32133592205220085, 0.5103175549681948, 0.6197939653305208, 0.016520456268257596, -0.670654902810984, 0.11615737770399821, 0.05673109861087061, -0.32652844532697195, 0.5863347390212258, 0.17383857631102662, 0.05874695867744955, 0.17690650408503308, -0.2826503138707112, 0.4157515492501903, 0.3283358771422104, -0.505611761501378, 0.27313435472777786, 0.619428796872319, -0.16458867374352196, -0.5694155639924066, 0.09632238398621389, 0.5540398389493093, 0.3966988994490467, -0.251905575712161, 0.43748116328071246, -0.7339223841211493, -0.11405242237710043, 0.147387927649596, -0.1006268006425673, -0.3840446899186011, 0.09243113009593315, -0.2793525567796369, 0.512870514206953, 0.4250776252142135, 0.31116280845062305, 0.22492836874742472, -0.31672677256799386, -0.20287923116342432, -0.35326170679279, 0.10424983856529478, -0.29174663476580676, -0.02362221564326705, -0.2639048586193841, -0.024883353883107414, -0.23633529146031906, 0.23431684219934523, -0.41279989737687867, 0.5619282060994424, 0.16611824619614413, 0.17769576264098216, 0.35150707368390677, -0.5650641307507925, 0.43845842692178044, -0.11203155320162148, -0.04797774128634831, -0.12427370870761041, 0.18510037544231514, 0.143745653963239, -0.13695229934086933, 0.19484185240266816, -0.26691566789804805, -0.23171754377124262, 0.16980967309272477, -0.34266383988506444, -0.3759735077137762, -0.44375092752453377, 0.17083006900065836, 0.05392575796193215, 0.26239257624884066, -0.16936734944805476, -0.2689656419545478, -0.05685001324476788, -0.19062560519022234, 0.18136322453503245, 0.5032179020451062, 0.27197204362411337, 0.37203664130551484, 0.1965894242591994]\n",
            "[0.02544844471796418, -0.042704070767094496, -0.1252775639347356, 0.04297510275135637, -0.03913016367942445, 0.03191360073847664, 0.03567569569616808, -0.05248464597604366, 0.012795067104028932, -0.019032105692463226, -0.0535681290886673, 0.016688047989089017, 0.05887419741158889, 0.02813069712771045, 0.009979343006109368, 0.03753954394545956, -0.010963851795696516, -0.00479277179305932, -0.10947532077885162, -0.05662464235881432, -0.03432322086763974, -0.11472220240105843, 0.08689538599420085, 0.02643287160596198, 0.012834572625523913, -0.05662336715693626, 0.12126562143232356, 0.090617893046512, -0.03653481536247804, -0.08650785214715978, 0.060628337197547254, 0.003719018408923478, 0.06723901733770006, -0.01626581048419388, 0.07209471462381373, -0.21382396409550725, 0.047888005088906824, 0.04321725761462204, -0.13228910644250824, -0.0012966995178779418, -0.0030298902151286353, 0.07706793428031596, 0.0704417375540581, 0.05029905971149381, 0.00393009693576734, 0.0012708393781523165, -0.06156016899850555, 0.10493278639677076, 0.05636171111484129, 0.06140881437338466, -0.030844908934767806, 0.09066920290043637, 0.06796560363229169, -0.10970058123163816, -0.12952326346587925, 0.051605601816216644, -0.0234276469920314, 0.09485844247596434, -0.01739558442627928, 0.04555795685527807, -0.05506962498106566, 0.017408753066057308, -0.02143617461564886, 0.10820725515587026, 0.21723339362110036, 0.018185405304019537, -0.059990678450072873, -0.007279433446433088, -0.002493829015848699, 0.06798195234415479, -0.04746891709934635, 0.18807877374773557, -0.09714035795459364, 0.003148238840537813, 0.10205382947589693, 0.13426332790833917, 0.0025892840097922476, -0.028710545916038215, -0.0985653066639281, -0.005550667566912786, -0.0422169009539172, -0.06207537672024664, 0.15519583308542348, -0.15800271778974595, 0.01921838325017458, -0.03646215723417601, 0.023178226382218208, -0.004839893027878629, 0.04681731935656125, -0.015495976084135086, -0.03679585833550739, 0.009819376688376784, -0.06181128288595802, -0.26445747535824576, -0.07264156187926607, 0.09524958075216425, -0.045900018518101104, 0.0697031218502219, 0.0544958508160274, -0.05393239843679719, 0.037749833851676726, -0.008782666709510455, -0.060979142850841744, 0.1631667534138683, 0.16448573777482753, -0.2629352109546658, 0.06845067041825954, 0.015434448006592064, 0.045656490226890264, -0.17037123521803768, -0.13937517384741427, 0.1478167168742218, 0.039391967360920044, -0.035819757411610066, 0.14240099645625542, 0.017085316932038134, 0.13205467905116927, 0.014999518321672555, 0.04289020440281257, 0.0014620811649157066, 0.01291857536143613, 0.03719850146653221, 0.08434402025862008, 0.23498669058389668, 0.0003359500771395922, -0.16818555080466516, -0.028733006328129168, -0.18040811719959193, 0.1204623060441145, 0.19067695668373766, 8.1966875354415e-05, 0.03584518268583916, 0.1611369072960347, -0.03162279020164392, -0.13069146216022257, 0.10023256069626543, 0.11000243458554632, -0.17614064407388172, 0.019207523242046737, -0.038992235744310905, 0.06057058160161411, -0.05111308183346618, -0.03742252509097745, -0.0976823219180053, -0.06356220704567202, 0.07920766743370178, 0.015056985087080726, -0.25149013363286726, 0.011319990293475926, -0.1470184283658753, 0.001180562267021739, -0.018548427555530086, 0.12300478855751946, -0.13342529053720956, 0.020272601955610276, -0.1963399167912313, -0.0812880479090092, -0.17265336700074208, 0.07309585559529293, -0.016390778359675305, 0.17989660327192636, 0.002088614961246372, 0.07629814965375338, -0.05144287326457018, -0.019909482771404252, -0.013507484956837314, -0.07094791849091177, 0.0022530270712047013, -0.06849895438859784, -0.07076536210707628, 0.008202192123303684, -0.1560863243389607, 0.07052076098195278, 0.15172145476573926, -0.017908987311933536, -0.06567671131182204, 0.04759127762044353, -0.04213831261641438, 0.12650859146563265, -0.19897046267367216, 0.05373855948435799, -0.11636161477159217, -0.1021559552405937, -0.003252978193537159, -0.12885639417221692, -0.06181830412901282, -0.18538580156116485, -0.011003111217888273, 0.06983483953167946, -0.09211824725821394, 0.17386736443515394, 0.07159376535086528, -0.00159472591120746, -0.019830459583203643, -0.04218090835672526, 0.13489183127834187, 0.009815044435175961, -0.05298078062729526, -0.08605662022820217, -0.07637894058353442]\n"
          ]
        }
      ],
      "source": [
        "# bentuk dictionary, bag-of-words corpus, dan kemudian Latent Semantic Indexing\n",
        "# dari kumpulan 3612 dokumen.\n",
        "NUM_LATENT_TOPICS = 200\n",
        "\n",
        "dictionary = Dictionary()\n",
        "bow_corpus = [dictionary.doc2bow(doc, allow_update = True) for doc in documents.values()]\n",
        "model = LsiModel(bow_corpus, num_topics = NUM_LATENT_TOPICS) # 200 latent topics\n",
        "\n",
        "# test melihat representasi vector dari sebuah dokumen & query\n",
        "def vector_rep(text):\n",
        "  rep = [topic_value for (_, topic_value) in model[dictionary.doc2bow(text)]]\n",
        "  return rep if len(rep) == NUM_LATENT_TOPICS else [0.] * NUM_LATENT_TOPICS\n",
        "\n",
        "print(vector_rep(documents[\"MED-329\"]))\n",
        "print(vector_rep(queries[\"PLAIN-2435\"]))"
      ]
    },
    {
      "cell_type": "code",
      "execution_count": null,
      "metadata": {
        "colab": {
          "base_uri": "https://localhost:8080/"
        },
        "id": "Olu8CM8TIOpQ",
        "outputId": "a6d63adf-fc18-4576-db23-eecece306b6b"
      },
      "outputs": [
        {
          "name": "stderr",
          "output_type": "stream",
          "text": [
            "/usr/local/lib/python3.7/dist-packages/scipy/spatial/distance.py:699: RuntimeWarning: invalid value encountered in double_scalars\n",
            "  dist = 1.0 - uv / np.sqrt(uu * vv)\n"
          ]
        },
        {
          "name": "stdout",
          "output_type": "stream",
          "text": [
            "(28277, 402)\n",
            "(28277,)\n"
          ]
        }
      ],
      "source": [
        "# kita ubah dataset menjadi terpisah X dan Y\n",
        "# dimana X adalah representasi gabungan query+document,\n",
        "# dan Y adalah label relevance untuk query dan document tersebut.\n",
        "# \n",
        "# Bagaimana cara membuat representasi vector dari gabungan query+document?\n",
        "# cara simple = concat(vector(query), vector(document)) + informasi lain\n",
        "# informasi lain -> cosine distance & jaccard similarity antara query & doc\n",
        "\n",
        "from scipy.spatial.distance import cosine\n",
        "\n",
        "def features(query, doc):\n",
        "  v_q = vector_rep(query)\n",
        "  v_d = vector_rep(doc)\n",
        "  q = set(query)\n",
        "  d = set(doc)\n",
        "  cosine_dist = cosine(v_q, v_d)\n",
        "  jaccard = len(q & d) / len(q | d)\n",
        "  return v_q + v_d + [jaccard] + [cosine_dist]\n",
        "\n",
        "X = []\n",
        "Y = []\n",
        "for (query, doc, rel) in dataset:\n",
        "  X.append(features(query, doc))\n",
        "  Y.append(rel)\n",
        "\n",
        "# ubah X dan Y ke format numpy array\n",
        "X = np.array(X)\n",
        "Y = np.array(Y)\n",
        "\n",
        "print(X.shape)\n",
        "print(Y.shape)"
      ]
    },
    {
      "cell_type": "markdown",
      "metadata": {
        "id": "VjyMMj2OYP4r"
      },
      "source": [
        "# Training the Ranker"
      ]
    },
    {
      "cell_type": "code",
      "execution_count": null,
      "metadata": {
        "colab": {
          "base_uri": "https://localhost:8080/"
        },
        "id": "4RInI865LE9S",
        "outputId": "de910c73-d1f5-481f-f1b9-fd9136fe5a13"
      },
      "outputs": [
        {
          "data": {
            "text/plain": [
              "LGBMRanker(importance_type='gain', learning_rate=0.02, metric='ndcg',\n",
              "           num_leaves=40, objective='lambdarank')"
            ]
          },
          "execution_count": 13,
          "metadata": {},
          "output_type": "execute_result"
        }
      ],
      "source": []
    },
    {
      "cell_type": "code",
      "execution_count": null,
      "metadata": {
        "colab": {
          "base_uri": "https://localhost:8080/"
        },
        "id": "gpj2mxPcZ6-1",
        "outputId": "57e5f0b1-cc81-4faf-fa7f-369d14524075"
      },
      "outputs": [
        {
          "data": {
            "text/plain": [
              "array([ 0.44023975, -0.04713903,  0.34965638, ..., -0.1196364 ,\n",
              "       -0.08329867, -0.26815327])"
            ]
          },
          "execution_count": 14,
          "metadata": {},
          "output_type": "execute_result"
        }
      ],
      "source": [
        "# test, prediksi terhadap training data itu sendiri\n",
        "ranker.predict(X)"
      ]
    },
    {
      "cell_type": "markdown",
      "metadata": {
        "id": "GuYkkYd8b0w4"
      },
      "source": [
        "# Predict Ranking for Unseen Q-D Paris"
      ]
    },
    {
      "cell_type": "code",
      "execution_count": null,
      "metadata": {
        "id": "XYaWZtJFb0Tl"
      },
      "outputs": [],
      "source": [
        "query = \"how much cancer risk can be avoided through lifestyle change ?\"\n",
        "\n",
        "docs =[(\"D1\", \"dietary restriction reduces insulin-like growth factor levels modulates apoptosis cell proliferation tumor progression num defici pubmed ncbi abstract diet contributes one-third cancer deaths western world factors diet influence cancer elucidated reduction caloric intake dramatically slows cancer progression rodents major contribution dietary effects cancer insulin-like growth factor igf-i lowered dietary restriction dr humans rats igf-i modulates cell proliferation apoptosis tumorigenesis mechanisms protective effects dr depend reduction multifaceted growth factor test hypothesis igf-i restored dr ascertain lowering igf-i central slowing bladder cancer progression dr heterozygous num deficient mice received bladder carcinogen p-cresidine induce preneoplasia confirmation bladder urothelial preneoplasia mice divided groups ad libitum num dr num dr igf-i igf-i/dr serum igf-i lowered num dr completely restored igf-i/dr-treated mice recombinant igf-i administered osmotic minipumps tumor progression decreased dr restoration igf-i serum levels dr-treated mice increased stage cancers igf-i modulated tumor progression independent body weight rates apoptosis preneoplastic lesions num times higher dr-treated mice compared igf/dr ad libitum-treated mice administration igf-i dr-treated mice stimulated cell proliferation num fold hyperplastic foci conclusion dr lowered igf-i levels favoring apoptosis cell proliferation ultimately slowing tumor progression mechanistic study demonstrating igf-i supplementation abrogates protective effect dr neoplastic progression\"), \n",
        "       (\"D2\", \"study hard as your blood boils\"), \n",
        "       (\"D3\", \"processed meats risk childhood leukemia california usa pubmed ncbi abstract relation intake food items thought precursors inhibitors n-nitroso compounds noc risk leukemia investigated case-control study children birth age num years los angeles county california united states cases ascertained population-based tumor registry num num controls drawn friends random-digit dialing interviews obtained num cases num controls food items principal interest breakfast meats bacon sausage ham luncheon meats salami pastrami lunch meat corned beef bologna hot dogs oranges orange juice grapefruit grapefruit juice asked intake apples apple juice regular charcoal broiled meats milk coffee coke cola drinks usual consumption frequencies determined parents child risks adjusted risk factors persistent significant associations children's intake hot dogs odds ratio num num percent confidence interval ci num num num hot dogs month trend num fathers intake hot dogs num ci num num highest intake category trend num evidence fruit intake provided protection results compatible experimental animal literature hypothesis human noc intake leukemia risk potential biases data study hypothesis focused comprehensive epidemiologic studies warranted\"), \n",
        "       (\"D4\", \"long-term effects calorie protein restriction serum igf num igfbp num concentration humans summary reduced function mutations insulin/igf-i signaling pathway increase maximal lifespan health span species calorie restriction cr decreases serum igf num concentration num protects cancer slows aging rodents long-term effects cr adequate nutrition circulating igf num levels humans unknown report data long-term cr studies num num years showing severe cr malnutrition change igf num igf num igfbp num ratio levels humans contrast total free igf num concentrations significantly lower moderately protein-restricted individuals reducing protein intake average num kg num body weight day num kg num body weight day num weeks volunteers practicing cr resulted reduction serum igf num num ng ml num num ng ml num findings demonstrate unlike rodents long-term severe cr reduce serum igf num concentration igf num igfbp num ratio humans addition data provide evidence protein intake key determinant circulating igf num levels humans suggest reduced protein intake important component anticancer anti-aging dietary interventions\"), \n",
        "       (\"D5\", \"cancer preventable disease requires major lifestyle abstract year num million americans num million people worldwide expected diagnosed cancer disease commonly believed preventable num num cancer cases attributed genetic defects remaining num num roots environment lifestyle lifestyle factors include cigarette smoking diet fried foods red meat alcohol sun exposure environmental pollutants infections stress obesity physical inactivity evidence cancer-related deaths num num due tobacco num num linked diet num num due infections remaining percentage due factors radiation stress physical activity environmental pollutants cancer prevention requires smoking cessation increased ingestion fruits vegetables moderate alcohol caloric restriction exercise avoidance direct exposure sunlight minimal meat consumption grains vaccinations regular check-ups review present evidence inflammation link agents/factors cancer agents prevent addition provide evidence cancer preventable disease requires major lifestyle\")]\n",
        "\n",
        "# sekedar pembanding, ada bocoran: D3 & D5 relevant, D1 & D4 partially relevant, D2 tidak relevan\n",
        "\n",
        "# bentuk ke format numpy array\n",
        "X_unseen = []\n",
        "for doc_id, doc in docs:\n",
        "  X_unseen.append(features(query.split(), doc.split()))\n",
        "\n",
        "X_unseen = np.array(X_unseen)"
      ]
    },
    {
      "cell_type": "code",
      "execution_count": null,
      "metadata": {
        "colab": {
          "base_uri": "https://localhost:8080/"
        },
        "id": "OiJVtq21egdm",
        "outputId": "012f514b-c015-47da-e47e-0c542468a1f1"
      },
      "outputs": [
        {
          "name": "stdout",
          "output_type": "stream",
          "text": [
            "[-0.09123152 -0.37380743 -0.20962416 -0.1076393   0.00553489]\n"
          ]
        }
      ],
      "source": [
        "# hitung scores\n",
        "scores = ranker.predict(X_unseen)\n",
        "print(scores)"
      ]
    },
    {
      "cell_type": "code",
      "execution_count": null,
      "metadata": {
        "colab": {
          "base_uri": "https://localhost:8080/"
        },
        "id": "epwUKqORfeK-",
        "outputId": "db730411-5a74-4bd5-edf7-f3b4a1165920"
      },
      "outputs": [
        {
          "name": "stdout",
          "output_type": "stream",
          "text": [
            "query        : how much cancer risk can be avoided through lifestyle change ?\n",
            "SERP/Ranking :\n",
            "D5 0.005534888821929053\n",
            "D1 -0.09123151703233041\n",
            "D4 -0.10763929796793502\n",
            "D3 -0.2096241560078664\n",
            "D2 -0.3738074251668168\n"
          ]
        }
      ],
      "source": [
        "# Ranking pada SERP\n",
        "\n",
        "# sekedar pembanding, ada bocoran: D3 & D5 relevant, D1 & D4 partially relevant, D2 tidak relevan\n",
        "# apakah LambdaMART berhasil merefleksikan hal ini?\n",
        "\n",
        "did_scores = [x for x in zip([did for (did, _) in docs], scores)]\n",
        "sorted_did_scores = sorted(did_scores, key = lambda tup: tup[1], reverse = True)\n",
        "\n",
        "print(\"query        :\", query)\n",
        "print(\"SERP/Ranking :\")\n",
        "for (did, score) in sorted_did_scores:\n",
        "  print(did, score)"
      ]
    }
  ],
  "metadata": {
    "colab": {
      "collapsed_sections": [],
      "provenance": [],
      "toc_visible": true
    },
    "kernelspec": {
      "display_name": "Python 3.8.10 64-bit",
      "language": "python",
      "name": "python3"
    },
    "language_info": {
      "name": "python",
      "version": "3.8.10"
    },
    "vscode": {
      "interpreter": {
        "hash": "e7370f93d1d0cde622a1f8e1c04877d8463912d04d973331ad4851f04de6915a"
      }
    }
  },
  "nbformat": 4,
  "nbformat_minor": 0
}
