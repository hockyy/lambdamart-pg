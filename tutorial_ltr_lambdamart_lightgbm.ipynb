{
  "cells": [
    {
      "cell_type": "markdown",
      "metadata": {
        "id": "1M2MzD7R-qC0"
      },
      "source": [
        "#Tutorial Learning-to-Rank dengan LambdaMART\n",
        "Alfan F. Wicaksono (Fasilkom UI)"
      ]
    },
    {
      "cell_type": "markdown",
      "metadata": {
        "id": "R79Q9MNq_Gn2"
      },
      "source": [
        "# Training Dataset\n",
        "Kita gunakan dataset untuk learning-to-rank pada domain Medical Information Retrieval yang dapat diakses di: \n",
        "\n",
        "https://www.cl.uni-heidelberg.de/statnlpgroup/nfcorpus/\n",
        "\n",
        "Data dapat diunduh di:\n",
        "\n",
        "https://www.cl.uni-heidelberg.de/statnlpgroup/nfcorpus/nfcorpus.tar.gz\n",
        "\n",
        "Setelah diunduh, data kemudian diekstrak, dan pada tutorial kali ini, kita hanya tertarik pada tiga file (tab-separated format) untuk melakukan training sebuah model LambdaMART:\n",
        "\n",
        "\n",
        "1.   train.docs --> koleksi 3612 dokumen medis (FORMAT: DOC_ID <tab> CONTENT)\n",
        "2.   train.3-2-1.qrel --> relevant judgments (FORMAT: QUERY_ID <tab> 0 <tab> DOC_ID <tab> RELEVANCE_LEVEL)\n",
        "3.   train.vid-desc.queries --> 812 query (FORMAT: QUERY_ID <tab> QUERY_TEXT)\n",
        "\n",
        "\n"
      ]
    },
    {
      "cell_type": "code",
      "execution_count": null,
      "metadata": {
        "colab": {
          "base_uri": "https://localhost:8080/"
        },
        "id": "axvlLqdv-QJQ",
        "outputId": "e65b651a-d49c-41eb-d40f-8debac701fb7"
      },
      "outputs": [
        {
          "name": "stdout",
          "output_type": "stream",
          "text": [
            "--2022-11-06 14:17:43--  https://www.cl.uni-heidelberg.de/statnlpgroup/nfcorpus/nfcorpus.tar.gz\n",
            "Resolving www.cl.uni-heidelberg.de (www.cl.uni-heidelberg.de)... 147.142.207.78\n",
            "Connecting to www.cl.uni-heidelberg.de (www.cl.uni-heidelberg.de)|147.142.207.78|:443... connected.\n",
            "HTTP request sent, awaiting response... 200 OK\n",
            "Length: 31039523 (30M) [application/x-gzip]\n",
            "Saving to: ‘data/nfcorpus.tar.gz’\n",
            "\n",
            "nfcorpus.tar.gz     100%[===================>]  29.60M  12.1MB/s    in 2.4s    \n",
            "\n",
            "2022-11-06 14:17:48 (12.1 MB/s) - ‘data/nfcorpus.tar.gz’ saved [31039523/31039523]\n",
            "\n",
            "nfcorpus/\n",
            "nfcorpus/train.docs\n",
            "nfcorpus/test.docs\n",
            "nfcorpus/dev.docs\n",
            "nfcorpus/dev.3-2-1.qrel\n",
            "nfcorpus/test.3-2-1.qrel\n",
            "nfcorpus/train.3-2-1.qrel\n",
            "nfcorpus/raw/\n",
            "nfcorpus/raw/doc_dump.txt\n",
            "nfcorpus/raw/dev.docs.ids\n",
            "nfcorpus/raw/dev.queries.ids\n",
            "nfcorpus/raw/test.docs.ids\n",
            "nfcorpus/raw/test.queries.ids\n",
            "nfcorpus/raw/train.docs.ids\n",
            "nfcorpus/raw/train.queries.ids\n",
            "nfcorpus/raw/stopwords.large\n",
            "nfcorpus/raw/nfdump.txt\n",
            "nfcorpus/raw/all_videos.ids\n",
            "nfcorpus/raw/nontopics.ids\n",
            "nfcorpus/test.2-1-0.qrel\n",
            "nfcorpus/dev.2-1-0.qrel\n",
            "nfcorpus/train.2-1-0.qrel\n",
            "nfcorpus/ecir2016.bib\n",
            "nfcorpus/test.vid-desc.queries\n",
            "nfcorpus/dev.vid-desc.queries\n",
            "nfcorpus/train.vid-desc.queries\n",
            "nfcorpus/dev.all.queries\n",
            "nfcorpus/test.all.queries\n",
            "nfcorpus/train.all.queries\n",
            "nfcorpus/dev.vid-titles.queries\n",
            "nfcorpus/test.vid-titles.queries\n",
            "nfcorpus/train.vid-titles.queries\n",
            "nfcorpus/dev.titles.queries\n",
            "nfcorpus/test.titles.queries\n",
            "nfcorpus/train.titles.queries\n",
            "nfcorpus/dev.nontopic-titles.queries\n",
            "nfcorpus/test.nontopic-titles.queries\n",
            "nfcorpus/train.nontopic-titles.queries\n",
            "nfcorpus/README.txt\n"
          ]
        }
      ],
      "source": [
        "!wget -c https://www.cl.uni-heidelberg.de/statnlpgroup/nfcorpus/nfcorpus.tar.gz -P data\n",
        "!tar -xvf data/nfcorpus.tar.gz"
      ]
    },
    {
      "cell_type": "code",
      "execution_count": null,
      "metadata": {
        "colab": {
          "base_uri": "https://localhost:8080/"
        },
        "id": "clOa6iorBeX5",
        "outputId": "a406cde8-d16e-45d6-9d64-f11698eb6993"
      },
      "outputs": [
        {
          "name": "stdout",
          "output_type": "stream",
          "text": [
            "MED-10\tstatin breast cancer survival nationwide cohort study finland abstract recent studies suggested statins established drug group prevention cardiovascular mortality delay prevent breast cancer recurrence effect disease-specific mortality remains unclear evaluated risk breast cancer death statin users population-based cohort breast cancer patients study cohort included newly diagnosed breast cancer patients finland num num num cases identified finnish cancer registry information statin diagnosis obtained national prescription database cox proportional hazards regression method estimate mortality statin users statin time-dependent variable total num participants statins median follow-up num years diagnosis range num num years num participants died num num due breast cancer adjustment age tumor characteristics treatment selection post-diagnostic pre-diagnostic statin lowered risk breast cancer death hr num num ci num num hr num num ci num num risk decrease post-diagnostic statin affected healthy adherer bias greater likelihood dying cancer patients discontinue statin association dose-dependent observed low-dose/short-term dose time-dependence survival benefit pre-diagnostic statin users suggests causal effect evaluated clinical trial testing statins effect survival breast cancer patients \n",
            "MED-14\tstatin diagnosis breast cancer survival population-based cohort study pubmed ncbi abstract background preclinical studies shown statins simvastatin prevent growth breast cancer cell lines animal models investigated statins breast cancer diagnosis reduced risk breast cancer-specific all-cause mortality large cohort breast cancer patients methods cohort num breast cancer patients newly diagnosed num num identified english cancer registries national cancer data repository cohort linked uk clinical practice research datalink providing prescription records office national statistics mortality data num identifying num deaths including num deaths attributable breast cancer unadjusted adjusted hazard ratios hrs breast cancer-specific all-cause mortality statin users breast cancer diagnosis calculated time-dependent cox regression models sensitivity analyses conducted multiple imputation methods propensity score methods case-control approach results evidence statin diagnosis breast cancer reduced mortality due breast cancer fully adjusted hr num num confidence interval num num num num num associations marked simvastatin num num num num num num conclusions large population-based breast cancer cohort evidence reduced mortality statin users breast cancer diagnosis associations weak magnitude attenuated sensitivity analyses \n",
            "MED-118\talkylphenols human milk relations dietary habits central taiwan pubmed ncbi abstract aims study determine concentrations num nonylphenol np num octylphenol op num human milk samples examine related factors including mothers demographics dietary habits women consumed median amount cooking oil significantly higher op concentrations num ng/g consumed num ng/g num op concentration significantly consumption cooking oil beta num num fish oil capsules beta num num adjustment age body mass index bmi np concentration significantly consumption fish oil capsules beta num num processed fish products beta num num food pattern cooking oil processed meat products factor analysis strongly op concentration human milk num determinations aid suggesting foods consumption nursing mothers order protect infants np/op exposure num elsevier rights reserved \n",
            "MED-301\tmethylmercury potential environmental risk factor contributing epileptogenesis abstract epilepsy seizure disorder common neurological diseases humans genetic mutations ion channels receptors risk factors brain injury linked epileptogenesis underlying majority epilepsy cases remains unknown gene-environment interactions thought play critical role etiology epilepsy exposure environmental chemicals important risk factor methylmercury mehg prominent environmental neurotoxicant targets primarily central nervous system cns patients animals acute chronic mehg poisoning display epileptic seizures show increased susceptibility seizures suggesting mehg exposure epileptogenesis mini-review highlights effects mehg exposure developmental exposure susceptibility humans animals seizures discusses potential role low level mehg exposure epileptogenesis review proposes preferential effect mehg inhibitory gabaergic system leading disinhibition excitatory glutamatergic function potential mechanisms underlying mehg-induced seizure susceptibility \n",
            "MED-306\tsensitivity continuous performance test cpt age num years developmental methylmercury exposure abstract hit reaction time latencies hrt continuous performance test cpt measure speed visual information processing latencies involve neuropsychological functions depending time test initiation i e orientation learning habituation cognitive processing focused attention finally sustained attention dominant demand prenatal methylmercury exposure increased reaction time rt latencies examined association methylmercury exposure average hrt age num years time intervals test initiation total num adolescents num birth cohort members completed cpt rt latencies recorded num minutes visual targets presented num ms intervals confounder adjustment regression coefficients showed cpt-rt outcomes differed associations exposure biomarkers prenatal methylmercury exposure minutes average hrt weakly methylmercury beta se ten-fold increase exposure num num strongly num num minute interval num num strongest num num minutes test initiation num num pattern unchanged simple reaction time finger tapping speed included models covariates postnatal methylmercury exposures affect outcomes findings suggest sustained attention neuropsychological domain vulnerable developmental methylmercury exposure indicating probable underlying dysfunction frontal lobes cpt data measure neurotoxicity test results analyzed regard time test initiation average reaction times \n",
            "MED-329\tphosphate vascular toxin pubmed ncbi abstract elevated phosphate levels advanced renal failure dysregulated calcium parathyroid hormone vitamin levels contribute complex chronic kidney disease-mineral bone disease ckd-mbd converging evidence vitro clinical epidemiological studies suggest increased vascular calcification mortality vessels exposed high conditions vitro develop apoptosis convert bone-like cells develop extensive calcification clinical studies children dialysis show high increased vessel wall thickness arterial stiffness coronary calcification epidemiological studies adult dialysis patients demonstrate significant independent association raised mortality importantly raised cardiovascular pre-dialysis ckd subjects normal renal function high binders effectively reduce serum decrease linked improved survival raised serum triggers release fibroblast growth factor num fgf num beneficial effect increasing excretion early ckd increased num fold dialysis independent cardiovascular risk factor fgf num co-receptor klotho direct effects vasculature leading calcification fascinatingly disturbances fgf num klotho raised premature aging data suggest high levels adverse vascular effects maintaining serum levels normal range reduces cardiovascular risk mortality \n",
            "MED-330\tdietary phosphorus acutely impairs endothelial function abstract excessive dietary phosphorus increase cardiovascular risk healthy individuals patients chronic kidney disease mechanisms underlying risk completely understood determine postprandial hyperphosphatemia promote endothelial dysfunction investigated acute effect phosphorus loading endothelial function vitro vivo exposing bovine aortic endothelial cells phosphorus load increased production reactive oxygen species depended phosphorus influx sodium-dependent phosphate transporters decreased nitric oxide production inhibitory phosphorylation endothelial nitric oxide synthase phosphorus loading inhibited endothelium-dependent vasodilation rat aortic rings num healthy men alternately served meals num mg num mg phosphorus double-blind crossover study measured flow-mediated dilation brachial artery num meals high dietary phosphorus load increased serum phosphorus num significantly decreased flow-mediated dilation flow-mediated dilation correlated inversely serum phosphorus findings suggest endothelial dysfunction mediated acute postprandial hyperphosphatemia contribute relationship serum phosphorus level risk cardiovascular morbidity mortality \n",
            "MED-332\tpublic health impact dietary phosphorus excess bone cardiovascular health general population pubmed ncbi abstract review explores potential adverse impact increasing phosphorus content american diet renal cardiovascular bone health general population increasingly studies show phosphorus intakes excess nutrient healthy population significantly disrupt hormonal regulation phosphate calcium vitamin contributes disordered mineral metabolism vascular calcification impaired kidney function bone loss large epidemiologic studies suggest mild elevations serum phosphate normal range cardiovascular disease cvd risk healthy populations evidence kidney disease studies linked high dietary phosphorus intake mild serum phosphate nature study design inaccuracies nutrient composition databases phosphorus essential nutrient excess linked tissue damage variety mechanisms involved endocrine regulation extracellular phosphate specifically secretion action fibroblast growth factor num parathyroid hormone disordered regulation hormones high dietary phosphorus key factors contributing renal failure cvd osteoporosis systematically underestimated national surveys phosphorus intake seemingly continues increase result growing consumption highly processed foods restaurant meals fast foods convenience foods increased cumulative ingredients phosphorus food processing merits study shown potential toxicity phosphorus intake exceeds nutrient \n",
            "MED-334\tdifferences total vitro digestible phosphorus content plant foods beverages pubmed ncbi abstract objective plant foods grain products legumes seeds important sources phosphorus current data content absorbability foods lacking measurement vitro digestible dp content foods reflect absorbability objective study measure total phosphorus tp dp contents selected foods compare amounts tp dp proportion dp tp foods methods tp dp content num foods drinks plant origin measured inductively coupled plasma optical emission spectrometry dp analysis samples digested enzymatically principle alimentary canal analyses popular national brands chosen analysis results highest amount tp num mg num found sesame seeds hull lowest percentage dp num tp cola drinks beer percentage dp tp num num num mg num cereal products highest tp content num mg num dp proportion num present industrial muffins sodium phosphate leavening agent legumes contained average dp content num mg num num tp conclusion absorbability differ substantially plant foods high tp content legumes poor source foods phosphate additives proportion dp high supports previous conclusions effective absorbability additives copyright num national kidney foundation published elsevier rights reserved \n",
            "MED-335\tdifferences total vitro digestible phosphorus content meat milk products pubmed ncbi abstract objective meat milk products important sources dietary phosphorus protein additives common processed cheese meat products measurement vitro digestible phosphorus dp content foods reflect absorbability objective study measure total phosphorus tp dp contents selected meat milk products compare amounts tp dp proportion dp tp foods methods tp dp contents num meat milk products measured inductively coupled plasma optical emission spectrometry icp-oes dp analysis samples digested enzymatically principle alimentary canal analyses popular national brands meat milk products chosen analysis results highest tp dp contents found processed hard cheeses lowest milk cottage cheese tp dp contents sausages cold cuts lower cheeses chicken pork beef rainbow trout contained similar amounts tp slightly variation found dp contents conclusions foods additives high content dp study confirms cottage cheese unenhanced meats choices processed hard cheeses sausages cold cuts chronic kidney disease patients based lower p-to-protein ratios sodium contents results support previous findings absorbability foods animal origin legumes copyright num national kidney foundation published elsevier rights reserved \n"
          ]
        }
      ],
      "source": [
        "# training data yang sudah terekstraksi ada di direktori nfcorpus\n",
        "\n",
        "# intip 10 baris pertama di train.docs\n",
        "!head -10 nfcorpus/train.docs"
      ]
    },
    {
      "cell_type": "code",
      "execution_count": null,
      "metadata": {
        "colab": {
          "base_uri": "https://localhost:8080/"
        },
        "id": "weytQkpIDln7",
        "outputId": "3657b75f-5f93-4b98-c469-a2cda0167417"
      },
      "outputs": [
        {
          "name": "stdout",
          "output_type": "stream",
          "text": [
            "PLAIN-3\t0\tMED-2436\t3\n",
            "PLAIN-3\t0\tMED-2437\t3\n",
            "PLAIN-3\t0\tMED-2438\t3\n",
            "PLAIN-3\t0\tMED-2439\t3\n",
            "PLAIN-3\t0\tMED-2440\t3\n",
            "PLAIN-3\t0\tMED-2427\t2\n",
            "PLAIN-3\t0\tMED-2428\t2\n",
            "PLAIN-3\t0\tMED-2429\t2\n",
            "PLAIN-3\t0\tMED-2430\t2\n",
            "PLAIN-3\t0\tMED-2431\t2\n"
          ]
        }
      ],
      "source": [
        "!head -10 nfcorpus/train.3-2-1.qrel"
      ]
    },
    {
      "cell_type": "code",
      "execution_count": null,
      "metadata": {
        "colab": {
          "base_uri": "https://localhost:8080/"
        },
        "id": "kc2WygaUDvyk",
        "outputId": "1c193592-6eea-46d3-b54e-978bf49ac324"
      },
      "outputs": [
        {
          "name": "stdout",
          "output_type": "stream",
          "text": [
            "PLAIN-2427\tdiet and exercise synergize to improve endothelial function , the ability of our arteries to relax normally .\n",
            "PLAIN-2428\tthe parable of the tiny parachute explains the study that found no relationship between dietary fiber intake and diverticulosis .\n",
            "PLAIN-2431\tpbde fire retardant chemicals in the food supply may contribute to attention and cognitive deficits in children .\n",
            "PLAIN-2432\tpeppermint essential oil should be considered the first-line treatment for ibs .\n",
            "PLAIN-2433\tthe reversal of blindness due to hypertension and diabetes with dr. kempner ’ s rice and fruit diet demonstrates the power of diet to exceed the benefits of the best modern medicine and surgery has to offer .\n",
            "PLAIN-2434\tsquatting and leaning can help straighten the anorectal angle , but a healthy enough diet should make bowel movements effortless regardless of positioning .\n",
            "PLAIN-2435\tmost people have between 3 bowel movements a day and 3 a week , but normal doesn ’ t necessarily mean optimal .\n",
            "PLAIN-2436\tlifestyle changes are often more effective in reducing the rates of heart disease , hypertension , heart failure , stroke , cancer , diabetes , and premature death than almost any other medical intervention .\n",
            "PLAIN-2437\twhat happened when the world health organization had the gall to recommend a diet low in saturated fat , sugar , and salt and high in fruit and vegetables ?\n",
            "PLAIN-2438\tsaturated fat can be toxic to the insulin-producing beta cells in the pancreas , explaining why animal fat consumption can impair insulin secretion , not just insulin sensitivity .\n"
          ]
        }
      ],
      "source": [
        "!head -10 nfcorpus/train.vid-desc.queries "
      ]
    },
    {
      "cell_type": "code",
      "execution_count": 2,
      "metadata": {
        "colab": {
          "base_uri": "https://localhost:8080/"
        },
        "id": "wdZ5LzgiFJd8",
        "outputId": "e843469c-7c26-4a6b-e511-c45c4ac7b94b"
      },
      "outputs": [
        {
          "name": "stdout",
          "output_type": "stream",
          "text": [
            "['phosphate', 'vascular', 'toxin', 'pubmed', 'ncbi', 'abstract', 'elevated', 'phosphate', 'levels', 'advanced', 'renal', 'failure', 'dysregulated', 'calcium', 'parathyroid', 'hormone', 'vitamin', 'levels', 'contribute', 'complex', 'chronic', 'kidney', 'disease-mineral', 'bone', 'disease', 'ckd-mbd', 'converging', 'evidence', 'vitro', 'clinical', 'epidemiological', 'studies', 'suggest', 'increased', 'vascular', 'calcification', 'mortality', 'vessels', 'exposed', 'high', 'conditions', 'vitro', 'develop', 'apoptosis', 'convert', 'bone-like', 'cells', 'develop', 'extensive', 'calcification', 'clinical', 'studies', 'children', 'dialysis', 'show', 'high', 'increased', 'vessel', 'wall', 'thickness', 'arterial', 'stiffness', 'coronary', 'calcification', 'epidemiological', 'studies', 'adult', 'dialysis', 'patients', 'demonstrate', 'significant', 'independent', 'association', 'raised', 'mortality', 'importantly', 'raised', 'cardiovascular', 'pre-dialysis', 'ckd', 'subjects', 'normal', 'renal', 'function', 'high', 'binders', 'effectively', 'reduce', 'serum', 'decrease', 'linked', 'improved', 'survival', 'raised', 'serum', 'triggers', 'release', 'fibroblast', 'growth', 'factor', 'num', 'fgf', 'num', 'beneficial', 'effect', 'increasing', 'excretion', 'early', 'ckd', 'increased', 'num', 'fold', 'dialysis', 'independent', 'cardiovascular', 'risk', 'factor', 'fgf', 'num', 'co-receptor', 'klotho', 'direct', 'effects', 'vasculature', 'leading', 'calcification', 'fascinatingly', 'disturbances', 'fgf', 'num', 'klotho', 'raised', 'premature', 'aging', 'data', 'suggest', 'high', 'levels', 'adverse', 'vascular', 'effects', 'maintaining', 'serum', 'levels', 'normal', 'range', 'reduces', 'cardiovascular', 'risk', 'mortality']\n",
            "['dietary', 'phosphorus', 'acutely', 'impairs', 'endothelial', 'function', 'abstract', 'excessive', 'dietary', 'phosphorus', 'increase', 'cardiovascular', 'risk', 'healthy', 'individuals', 'patients', 'chronic', 'kidney', 'disease', 'mechanisms', 'underlying', 'risk', 'completely', 'understood', 'determine', 'postprandial', 'hyperphosphatemia', 'promote', 'endothelial', 'dysfunction', 'investigated', 'acute', 'effect', 'phosphorus', 'loading', 'endothelial', 'function', 'vitro', 'vivo', 'exposing', 'bovine', 'aortic', 'endothelial', 'cells', 'phosphorus', 'load', 'increased', 'production', 'reactive', 'oxygen', 'species', 'depended', 'phosphorus', 'influx', 'sodium-dependent', 'phosphate', 'transporters', 'decreased', 'nitric', 'oxide', 'production', 'inhibitory', 'phosphorylation', 'endothelial', 'nitric', 'oxide', 'synthase', 'phosphorus', 'loading', 'inhibited', 'endothelium-dependent', 'vasodilation', 'rat', 'aortic', 'rings', 'num', 'healthy', 'men', 'alternately', 'served', 'meals', 'num', 'mg', 'num', 'mg', 'phosphorus', 'double-blind', 'crossover', 'study', 'measured', 'flow-mediated', 'dilation', 'brachial', 'artery', 'num', 'meals', 'high', 'dietary', 'phosphorus', 'load', 'increased', 'serum', 'phosphorus', 'num', 'significantly', 'decreased', 'flow-mediated', 'dilation', 'flow-mediated', 'dilation', 'correlated', 'inversely', 'serum', 'phosphorus', 'findings', 'suggest', 'endothelial', 'dysfunction', 'mediated', 'acute', 'postprandial', 'hyperphosphatemia', 'contribute', 'relationship', 'serum', 'phosphorus', 'level', 'risk', 'cardiovascular', 'morbidity', 'mortality']\n"
          ]
        }
      ],
      "source": [
        "documents = {}\n",
        "with open(\"nfcorpus/train.docs\") as file:\n",
        "  for line in file:\n",
        "    doc_id, content = line.split(\"\\t\")\n",
        "    documents[doc_id] = content.split()\n",
        "\n",
        "# test untuk melihat isi dari 2 dokumen\n",
        "print(documents[\"MED-329\"])\n",
        "print(documents[\"MED-330\"])"
      ]
    },
    {
      "cell_type": "code",
      "execution_count": 3,
      "metadata": {
        "colab": {
          "base_uri": "https://localhost:8080/"
        },
        "id": "-Otvc9sJJsSe",
        "outputId": "69aa7d5c-856f-4229-ee95-1bae16227c36"
      },
      "outputs": [
        {
          "name": "stdout",
          "output_type": "stream",
          "text": [
            "['the', 'parable', 'of', 'the', 'tiny', 'parachute', 'explains', 'the', 'study', 'that', 'found', 'no', 'relationship', 'between', 'dietary', 'fiber', 'intake', 'and', 'diverticulosis', '.']\n",
            "['most', 'people', 'have', 'between', '3', 'bowel', 'movements', 'a', 'day', 'and', '3', 'a', 'week', ',', 'but', 'normal', 'doesn', '’', 't', 'necessarily', 'mean', 'optimal', '.']\n"
          ]
        }
      ],
      "source": [
        "queries = {}\n",
        "with open(\"nfcorpus/train.vid-desc.queries\") as file:\n",
        "  for line in file:\n",
        "    q_id, content = line.split(\"\\t\")\n",
        "    queries[q_id] = content.split()\n",
        "\n",
        "# test untuk melihat isi dari 2 query\n",
        "print(queries[\"PLAIN-2428\"])\n",
        "print(queries[\"PLAIN-2435\"])"
      ]
    },
    {
      "cell_type": "code",
      "execution_count": 8,
      "metadata": {
        "colab": {
          "base_uri": "https://localhost:8080/"
        },
        "id": "vKAwu1KvxqRF",
        "outputId": "919ab5b5-be3a-4c37-c339-3fd2ccfe9739"
      },
      "outputs": [
        {
          "name": "stdout",
          "output_type": "stream",
          "text": [
            "number of Q-D pairs: 28277\n",
            "group_qid_count: [102, 16, 48, 68, 37, 17, 32, 37, 28, 64, 22, 35, 74, 73, 66, 30, 46, 48, 62, 71, 58, 90, 63, 43, 60, 51, 71, 54, 32, 40, 36, 44, 85, 38, 35, 83, 62, 56, 37, 42, 49, 96, 41, 32, 14, 50, 22, 14, 18, 26, 65, 25, 41, 81, 42, 39, 58, 23, 110, 25, 37, 67, 62, 44, 53, 51, 15, 42, 52, 76, 20, 52, 103, 53, 58, 25, 34, 19, 33, 25, 36, 69, 106, 58, 82, 17, 48, 92, 72, 18, 65, 94, 82, 36, 42, 52, 39, 24, 42, 45, 50, 50, 59, 8, 36, 66, 28, 50, 48, 44, 22, 90, 25, 56, 59, 39, 34, 39, 55, 34, 20, 21, 44, 29, 31, 51, 39, 105, 52, 57, 107, 75, 45, 40, 72, 45, 53, 53, 50, 120, 38, 65, 84, 48, 50, 66, 21, 61, 27, 38, 84, 66, 42, 11, 46, 68, 16, 33, 85, 50, 65, 50, 60, 21, 41, 29, 53, 92, 12, 16, 63, 42, 48, 43, 5, 45, 21, 47, 35, 31, 40, 26, 43, 18, 35, 21, 77, 10, 79, 45, 25, 47, 24, 38, 11, 34, 26, 32, 25, 12, 13, 44, 22, 29, 26, 45, 23, 22, 24, 38, 49, 18, 42, 64, 26, 49, 80, 84, 56, 50, 83, 44, 65, 13, 43, 29, 20, 28, 71, 82, 43, 84, 42, 50, 24, 56, 41, 24, 28, 52, 41, 60, 45, 43, 40, 37, 33, 44, 80, 44, 41, 47, 49, 52, 34, 33, 58, 80, 61, 33, 44, 55, 77, 24, 25, 16, 42, 43, 61, 29, 27, 20, 32, 56, 34, 69, 20, 34, 46, 34, 43, 18, 33, 43, 30, 10, 26, 54, 65, 48, 30, 19, 17, 13, 28, 16, 24, 58, 29, 28, 31, 39, 26, 13, 41, 31, 4, 11, 39, 22, 24, 33, 28, 27, 40, 18, 36, 64, 36, 24, 90, 24, 6, 12, 4, 5, 31, 9, 4, 7, 108, 15, 14, 16, 3, 26, 10, 14, 17, 28, 9, 19, 21, 5, 70, 7, 8, 26, 7, 38, 23, 19, 21, 24, 39, 7, 14, 14, 18, 31, 12, 130, 23, 7, 33, 30, 28, 32, 49, 10, 84, 58, 37, 35, 37, 40, 29, 33, 65, 12, 25, 26, 2, 11, 4, 82, 12, 357, 49, 29, 54, 3, 31, 31, 27, 12, 20, 17, 22, 214, 38, 12, 85, 41, 18, 26, 7, 22, 47, 32, 35, 14, 11, 8, 23, 20, 21, 20, 14, 29, 20, 26, 5, 12, 15, 4, 15, 9, 13, 12, 43, 9, 11, 22, 4, 11, 12, 10, 3, 5, 10, 11, 11, 2, 25, 28, 4, 2, 2, 9, 36, 6, 2, 5, 37, 2, 3, 3, 3, 6, 10, 13, 5, 3, 2, 4, 3, 14, 7, 5, 4, 2, 2, 22, 4, 26, 2, 10, 6, 12, 3, 5, 8, 5, 3, 4, 3, 5, 15, 3, 4, 2, 6, 8, 2, 7, 5, 8, 6, 3, 15, 8, 2, 24, 6, 2, 24, 29, 75, 37, 271, 4, 6, 43, 2, 2, 4, 15, 4, 3, 6, 4, 3, 25, 5, 25, 3, 4, 5, 44, 19, 2, 5, 2, 29, 23, 54, 25, 32, 25, 11, 21, 45, 48, 32, 60, 21, 19, 64, 67, 55, 65, 39, 58, 19, 31, 52, 37, 51, 14, 17, 20, 37, 22, 15, 18, 18, 43, 43, 42, 45, 11, 28, 5, 17, 36, 56, 19, 19, 14, 52, 7, 36, 54, 15, 25, 22, 55, 42, 11, 34, 15, 63, 6, 36, 48, 62, 6, 27, 2, 7, 9, 23, 16, 18, 14, 33, 17, 53, 248, 12, 47, 37, 17, 62, 23, 47, 51, 53, 153, 18, 139, 32, 52, 16, 10, 36, 33, 37, 11, 4, 23, 41, 15, 269, 38, 42, 34, 24, 21, 3, 21, 57, 27, 29, 17, 18, 10, 56, 6, 29, 29, 32, 35, 61, 63, 7, 115, 7, 6, 18, 4, 6, 34, 30, 10, 2, 180, 12, 32, 36, 41, 9, 15, 40, 57, 54, 32, 7, 15, 20, 19, 12, 24, 26, 9, 24, 68, 29, 5, 16, 16, 45, 63, 99, 37, 44, 34, 38, 19, 10, 24, 5, 77, 42, 22, 13, 12, 8, 20, 59, 2, 9, 17, 19, 2, 90, 15, 12, 51, 36, 9, 50, 33, 34, 9, 19, 13, 7, 35, 35, 15, 13, 3, 2, 26, 4, 39, 55, 23, 139, 33, 30, 27, 23, 48, 16, 19, 20, 26, 31, 26, 27, 13, 20, 19, 23, 4, 17, 33, 58, 54, 34, 112, 34, 20, 3, 14, 13, 52, 10, 19, 3, 3, 10, 152, 14, 20, 35, 13, 47, 8, 39, 19, 20, 66, 40, 9, 27, 15, 31, 8, 27, 29, 44, 90, 78, 102, 39, 53, 44, 120, 34, 18, 82, 32, 29, 22, 22, 22, 60, 84]\n",
            "[(['diet', 'and', 'exercise', 'synergize', 'to', 'improve', 'endothelial', 'function', ',', 'the', 'ability', 'of', 'our', 'arteries', 'to', 'relax', 'normally', '.'], ['curcumin', 'ingestion', 'exercise', 'training', 'improve', 'vascular', 'endothelial', 'function', 'postmenopausal', 'women', 'pubmed', 'ncbi', 'abstract', 'vascular', 'endothelial', 'function', 'declines', 'aging', 'increased', 'risk', 'cardiovascular', 'disease', 'lifestyle', 'modification', 'aerobic', 'exercise', 'dietary', 'adjustment', 'favorable', 'effect', 'vascular', 'aging', 'curcumin', 'major', 'component', 'turmeric', 'anti-inflammatory', 'anti-oxidative', 'effects', 'investigated', 'effects', 'curcumin', 'ingestion', 'aerobic', 'exercise', 'training', 'flow-mediated', 'dilation', 'indicator', 'endothelial', 'function', 'postmenopausal', 'women', 'total', 'num', 'postmenopausal', 'women', 'assigned', 'num', 'groups', 'control', 'exercise', 'curcumin', 'groups', 'curcumin', 'group', 'ingested', 'curcumin', 'orally', 'num', 'weeks', 'exercise', 'group', 'underwent', 'moderate', 'aerobic', 'exercise', 'training', 'num', 'weeks', 'intervention', 'flow-mediated', 'dilation', 'measured', 'difference', 'baseline', 'flow-mediated', 'dilation', 'key', 'dependent', 'variables', 'detected', 'groups', 'flow-mediated', 'dilation', 'increased', 'significantly', 'equally', 'curcumin', 'exercise', 'groups', 'observed', 'control', 'group', 'results', 'curcumin', 'ingestion', 'aerobic', 'exercise', 'training', 'increase', 'flow-mediated', 'dilation', 'postmenopausal', 'women', 'suggesting', 'potentially', 'improve', 'age-related', 'decline', 'endothelial', 'function', 'copyright', 'num', 'elsevier', 'rights', 'reserved'], 3), (['diet', 'and', 'exercise', 'synergize', 'to', 'improve', 'endothelial', 'function', ',', 'the', 'ability', 'of', 'our', 'arteries', 'to', 'relax', 'normally', '.'], ['endothelial', 'dysfunction', 'early', 'predictor', 'atherosclerosis', 'abstract', 'abstract', 'discovery', 'num', 'nitric', 'oxide', 'fact', 'elusive', 'endothelium-derived', 'relaxing', 'factor', 'evident', 'major', 'cardiovascular', 'signalling', 'molecule', 'bioavailability', 'crucial', 'determining', 'atherosclerosis', 'develop', 'sustained', 'high', 'levels', 'harmful', 'circulating', 'stimuli', 'cardiovascular', 'risk', 'factors', 'diabetes', 'mellitus', 'elicit', 'responses', 'endothelial', 'cells', 'sequentially', 'endothelial', 'cell', 'activation', 'endothelial', 'dysfunction', 'ed', 'ed', 'characterised', 'reduced', 'bioavailability', 'recognised', 'early', 'reversible', 'precursor', 'atherosclerosis', 'pathogenesis', 'ed', 'multifactorial', 'oxidative', 'stress', 'appears', 'common', 'underlying', 'cellular', 'mechanism', 'ensuing', 'loss', 'vaso-active', 'inflammatory', 'haemostatic', 'redox', 'homeostasis', 'body', 'vascular', 'system', 'role', 'ed', 'pathophysiological', 'link', 'early', 'endothelial', 'cell', 'cardiovascular', 'risk', 'factors', 'development', 'ischaemic', 'heart', 'disease', 'importance', 'basic', 'scientists', 'clinicians', 'alike'], 3)]\n"
          ]
        }
      ],
      "source": [
        "# melalui qrels, kita akan buat sebuah dataset untuk training\n",
        "# LambdaMART model dengan format\n",
        "#\n",
        "# [(query_text, document_text, relevance), ...]\n",
        "#\n",
        "# relevance awalnya bernilai 1, 2, 3 --> tidak perlu dinormalisasi\n",
        "# biarkan saja integer (syarat dari library LightGBM untuk\n",
        "# LambdaRank)\n",
        "#\n",
        "# relevance level: 3 (fully relevant), 2 (partially relevant), 1 (marginally relevant)\n",
        "import random\n",
        "\n",
        "NUM_NEGATIVES = 1\n",
        "\n",
        "q_docs_rel = {} # grouping by q_id terlebih dahulu\n",
        "with open(\"nfcorpus/train.3-2-1.qrel\") as file:\n",
        "  for line in file:\n",
        "    q_id, _, doc_id, rel = line.split(\"\\t\")\n",
        "    if (q_id in queries) and (doc_id in documents):\n",
        "      if q_id not in q_docs_rel:\n",
        "        q_docs_rel[q_id] = []\n",
        "      q_docs_rel[q_id].append((doc_id, int(rel)))\n",
        "\n",
        "# group_qid_count untuk model LGBMRanker\n",
        "group_qid_count = []\n",
        "dataset = []\n",
        "for q_id in q_docs_rel:\n",
        "  docs_rels = q_docs_rel[q_id]\n",
        "  group_qid_count.append(len(docs_rels) + NUM_NEGATIVES)\n",
        "  for doc_id, rel in docs_rels:\n",
        "    dataset.append((queries[q_id], documents[doc_id], rel))\n",
        "  # tambahkan satu negative (random sampling saja dari documents)\n",
        "  dataset.append((queries[q_id], random.choice(list(documents.values())), 0))\n",
        "\n",
        "# test\n",
        "print(\"number of Q-D pairs:\", len(dataset))\n",
        "print(\"group_qid_count:\", group_qid_count)\n",
        "assert sum(group_qid_count) == len(dataset), \"ada yang salah\"\n",
        "print(dataset[:2])"
      ]
    },
    {
      "cell_type": "markdown",
      "metadata": {
        "id": "dArtNc7WCr1I"
      },
      "source": [
        "# Installing Library"
      ]
    },
    {
      "cell_type": "code",
      "execution_count": null,
      "metadata": {
        "colab": {
          "base_uri": "https://localhost:8080/"
        },
        "id": "tCa9_A2FCyaz",
        "outputId": "d20609d5-aad7-4f85-d840-3159e3c8328c"
      },
      "outputs": [
        {
          "name": "stdout",
          "output_type": "stream",
          "text": [
            "Looking in indexes: https://pypi.org/simple, https://us-python.pkg.dev/colab-wheels/public/simple/\n",
            "Requirement already satisfied: lightgbm in /usr/local/lib/python3.7/dist-packages (2.2.3)\n",
            "Requirement already satisfied: scikit-learn in /usr/local/lib/python3.7/dist-packages (from lightgbm) (1.0.2)\n",
            "Requirement already satisfied: scipy in /usr/local/lib/python3.7/dist-packages (from lightgbm) (1.7.3)\n",
            "Requirement already satisfied: numpy in /usr/local/lib/python3.7/dist-packages (from lightgbm) (1.21.6)\n",
            "Requirement already satisfied: threadpoolctl>=2.0.0 in /usr/local/lib/python3.7/dist-packages (from scikit-learn->lightgbm) (3.1.0)\n",
            "Requirement already satisfied: joblib>=0.11 in /usr/local/lib/python3.7/dist-packages (from scikit-learn->lightgbm) (1.2.0)\n"
          ]
        }
      ],
      "source": [
        "!pip install lightgbm"
      ]
    },
    {
      "cell_type": "code",
      "execution_count": null,
      "metadata": {
        "colab": {
          "base_uri": "https://localhost:8080/"
        },
        "id": "dpUv0YPJC4Bw",
        "outputId": "15512a74-3264-4191-d0d2-23621534c6d6"
      },
      "outputs": [
        {
          "name": "stdout",
          "output_type": "stream",
          "text": [
            "Looking in indexes: https://pypi.org/simple, https://us-python.pkg.dev/colab-wheels/public/simple/\n",
            "Requirement already satisfied: gensim in /usr/local/lib/python3.7/dist-packages (3.6.0)\n",
            "Requirement already satisfied: smart-open>=1.2.1 in /usr/local/lib/python3.7/dist-packages (from gensim) (5.2.1)\n",
            "Requirement already satisfied: six>=1.5.0 in /usr/local/lib/python3.7/dist-packages (from gensim) (1.15.0)\n",
            "Requirement already satisfied: numpy>=1.11.3 in /usr/local/lib/python3.7/dist-packages (from gensim) (1.21.6)\n",
            "Requirement already satisfied: scipy>=0.18.1 in /usr/local/lib/python3.7/dist-packages (from gensim) (1.7.3)\n"
          ]
        }
      ],
      "source": [
        "!pip install gensim"
      ]
    },
    {
      "cell_type": "code",
      "execution_count": 9,
      "metadata": {
        "id": "_oYOwPajEIqR"
      },
      "outputs": [],
      "source": [
        "import lightgbm as lgb\n",
        "import numpy as np\n",
        "\n",
        "from gensim.models import TfidfModel\n",
        "from gensim.models import LsiModel\n",
        "from gensim.corpora import Dictionary"
      ]
    },
    {
      "cell_type": "markdown",
      "metadata": {
        "id": "0Y3hHALIETGd"
      },
      "source": [
        "# Building LSI/LSA Model\n",
        "Kita akan buat Latent Semantic Indexing/Analysis (LSI/A) model untuk representasi dokumen menggunakan semua 3612 dokumen yang ada di train.docs. 812 queries yang ada di train.vid-desc.queries nantinya akan dipetakan ke dimensi space TF-IDF yang dibangun dari koleksi 3612 dokumen sebelumnya."
      ]
    },
    {
      "cell_type": "code",
      "execution_count": 11,
      "metadata": {
        "colab": {
          "base_uri": "https://localhost:8080/"
        },
        "id": "hPcAZDWME-XG",
        "outputId": "58880de7-8303-4614-9fc3-a6969f38dd77"
      },
      "outputs": [
        {
          "name": "stdout",
          "output_type": "stream",
          "text": [
            "[5.920787465765672, 3.1357210422559465, -2.6079147186710254, 0.6843879131422005, 1.8054471564607688, -2.3815641304315314, -1.4734709914446809, 0.27853279430969485, -0.5569528612565139, -1.3390594155562505, -0.7187761873730433, 0.4598265267367822, -1.6556972937322174, -0.2956092277814948, -1.7422045820630383, -0.753254148858865, 0.7476878600964301, 1.0801167023351896, -1.0601344426390973, 1.0615567542668634, -0.15800530179884792, -1.7024359258804478, -1.4937497297212479, 1.5188208472866886, 0.5879330616132777, -1.5639321372285426, -0.9492245274585875, -0.028988063544837014, -0.12364103957535735, -0.4233111314913743, -0.10008340700200656, -1.5247651032943041, -0.4885170346149106, -1.4911911135961977, -1.208530587354658, 0.14520456439027515, -0.9345639929938973, 1.9116509107920434, -1.2820665544094108, -0.32199755857378176, 1.5199688996703302, 0.013502728324811399, -0.07647070440200379, 0.4730059273314081, 0.336948188939548, -1.2606746537805629, 1.0009069548926404, -0.7438076645357221, 0.9016748181236452, -0.053223040703717125, 1.2779219222051885, -0.9208343879831167, 0.33053103161861, -1.0571461143016798, -0.8261452813025791, -0.20103940407451643, -0.7135713866704928, 0.5661558841826158, 0.388775382547169, 0.8209993584899297, -0.283659348220558, 0.14073793956896574, -0.6249836109719891, -1.0362511196476536, 0.4432566946105122, 1.2610877867981278, -0.5738673792330253, 0.12204305345647466, -0.9725750133613456, 0.10851004563940393, 1.2951675131874216, 0.5323889146429307, 0.7638647198120014, 0.79961238302431, -0.13331625059276925, 0.04181825822695278, 0.025360648464147248, -0.8491207515808534, 0.987100305594743, 0.9248324600214397, 0.20210457018067352, 0.1031747139215724, -0.3036429248794797, -0.3294378363382749, -0.8329289783777765, -0.18812597940129921, 0.9571025331403072, 0.4346285066502905, 0.7712466641354361, -0.4555190694429427, -0.33682572843400055, 0.6288096558163748, 0.18350677193947768, -0.5097877141663534, -0.8686284671914837, -0.44812091035377744, -0.4477404990589179, -0.43642062418648503, -0.509033134381535, -0.4203184412206173, 0.4132157824656843, -0.8526598357200065, -0.312403828309962, -0.35655562290602494, 0.07107324136126243, -0.016273972509659156, 0.029231367902481625, -0.29478899412458637, -0.1277465644096665, 0.31895897622702013, -0.5612033080195792, 0.2674417155673596, 0.017678649919883195, 0.3601770326015677, 0.1412313039791907, 0.5930733539321422, 0.9817594840600518, 0.9872808429129166, 0.27899434015167635, 0.09644754149485997, 0.4667059930185482, 0.7261346972509556, -0.032158602365611744, -0.27950024237070237, 0.1509598561920972, 0.10912759506690288, 0.260497184283534, 0.8574275333672408, 0.002252319045631647, -0.46158249736622875, 0.48688771498414385, -0.04539472467624096, -0.0855452247504518, -0.21781640476539446, 0.48400442213273676, -0.1473168266509468, -0.11938532014114035, -0.3553568693560751, 0.6552653621447043, -0.19062099095393018, 0.8381530077398579, 0.25473040793190926, 0.24188595141836222, -0.26816042959008335, -0.6709046033181858, -0.4019465968689482, 0.22596085559897167, 0.2785895479773227, 0.07905746596534631, -0.4212014327198651, -0.1412062711102322, -0.34806299101273325, -0.5677053085404506, 0.45526114213871444, 0.18068711402611828, 0.47651614215807137, 0.5150307968051703, 0.003245620793146658, 0.13343967076754942, -0.11853067409395696, -0.525664247009399, 0.33047595238457306, -0.31472933064969005, -0.13164627114480892, 0.05099044666813452, 0.4415219399997888, -0.377714399644135, 0.17356136423906185, 0.07164109777943693, -0.05894698991453379, -0.295250625742351, -0.164369833229135, 0.04570508816458253, -0.329894211171884, 0.1241092549841914, -0.5643035259860216, -0.4665525687043098, -0.17572968662722652, -0.04866885373359049, -0.16954712966573196, 0.14187194284339102, 0.00865770727617693, -0.2886862739108689, 0.16461560810008058, 0.19904189077564421, -0.5811458839572086, 0.4626758358357824, 0.11543374107343439, 0.2549810107443065, 0.4930817949007986, 0.09514027587583501, 0.4114875227837627, -0.31237562488696496, -0.018999284776241458, -0.019625996988126646, -0.13105059040639, -0.4232226989790637, 0.196879649832063, -0.4463825765278302, 0.9433522094873081]\n",
            "[0.025448448455610364, 0.04270141200029521, -0.125268711164676, 0.043060889361594926, 0.0391018809932071, 0.03185784209393085, 0.0360211302439333, 0.051847558117010986, -0.012817997595947542, -0.018713908258179198, -0.05364927093602044, 0.016552084142009586, 0.058631634655029914, 0.027411301206855938, 0.010512957013149459, -0.037436310517374005, -0.012056484871190758, -0.007591589702793723, -0.11056856288508242, 0.055725173722360744, -0.033033365865251865, 0.11438975346837228, 0.08711707151368205, -0.026217169127541597, -0.013111491284776644, 0.05677682469534701, -0.12140470874908933, -0.08955089868899159, 0.03504972052839644, 0.08644051666795548, 0.06032835980727318, 0.005114952003185717, 0.06526347468457666, -0.014799314143968498, -0.07242727262169645, 0.21611970387603818, -0.04524039797182941, -0.04066564922481306, -0.1304906348411806, 0.0021508428192151064, 0.0019729698089918273, -0.07723545672071855, -0.06989843838060453, -0.05225284422880388, 0.0031754223382114122, 0.0011958533014915088, -0.06604856375184097, -0.10943708786982691, 0.05570803699481311, 0.06501630098773972, 0.019003911374036703, 0.0915979497691096, -0.06559196616144991, 0.09007299124291283, 0.14045128931517928, -0.05514609411149645, -0.02114921370355965, -0.09375887678076668, 0.01255313887545067, 0.045839591943892886, 0.05109187265453901, 0.00573965739481544, -0.0228056419808077, -0.1053006821288111, 0.22593637700778776, 0.027057275226357525, 0.07121614488218754, 0.01135077866319682, -0.009975163023125313, -0.07749999941641793, -0.056119048679184984, -0.18205263370332, -0.0898756313498206, -0.00858504409783343, 0.10911496736082732, 0.12177044488127942, 0.01893942339633429, -0.019970802290064975, 0.11103079123946301, -0.015553265319321606, -0.07381033441975003, -0.05469944324251888, 0.09833444887767794, -0.125533794093868, -0.12337116969668505, 0.011053918621725625, 0.009280957534227054, 0.00396549803206538, 0.031170893066026963, 0.021316487428761542, 0.002202300856098237, -0.06448658626289118, -0.06888516901664987, 0.24124790199363713, 0.07604588000732154, -0.05373305767336261, 0.08429555535177392, 0.05933379489266271, -0.05539204839964378, 0.049545279585000594, 0.05331425570373613, 0.030970420477708916, -0.06750089524179878, -0.12874648428315594, 0.14974382571651995, 0.28690649302878174, -0.007208731508568882, -0.01696604165308198, -0.15610807097724638, -0.11802482363901048, 0.1405499539009698, 0.14844596682032365, -0.05073205088819672, 0.14280634139117646, 0.11711016247905921, 0.02049370139542067, 0.14118682293375515, -0.04914704632208464, 0.11415296352681477, 0.007450959691391719, 0.00031588674847015026, -0.04776208790076922, 0.013797795915095484, 0.03595742895386931, 0.09120576352009459, -0.3036914277323899, 0.01659823600499755, 0.14509388822538433, 0.10390008231040299, 0.06285516367314531, -0.05567734263998356, 0.09824010923128498, -0.14469032298652124, -0.05143061565639517, 0.2679450902918625, 0.0699426323919602, 0.1859386692533015, -0.06685693674750445, 0.11018778965690983, 0.09349030246833308, 0.04200343681492917, -0.04866255239074187, 0.058529760490858694, -0.03273425726925696, -0.007467340790215165, 0.06276676506489477, -0.058735502413525716, 0.24858177031559042, -0.027371869970595538, -0.11871005728296016, -0.026891416087957812, -0.20269078873937954, 0.10176621162917339, 0.20442405240444267, -0.05520250617282749, 0.059594794273937476, -0.08931371551742262, 0.032719611124836984, 0.14852775286582287, 0.05943599588447164, 0.01462926866197155, 0.05804166802689346, -0.05693813888748115, -0.026437886564429365, -0.004801914899888988, -0.1945786956248574, 0.03549261926218765, -0.07125475850242256, 0.01621843138391933, -0.1594255014132798, 0.07122420090119981, 0.014089381403655739, -0.042218060013802516, -0.0661225851972526, -0.031436013038274584, 0.060587834963537, 0.1555276451629908, -0.015025077400362984, 0.034552950449523175, 0.2153054284062794, -0.01292622800803349, -0.05583978101602932, -0.18160574214109865, -0.088387726893527, -0.07642939646302088, -0.10870094084021076, 0.022418160899344664, 0.07341474003356221, 0.0915589511046867, 0.1659918121034637, 0.1151543823518786, -0.24106081363957238, 0.1872080345578444, 0.0034125133053349633, -0.06800650527441411, 0.12949819985632383, 0.10607281801665998, 0.052228979845692934, 0.09922045092538181, -0.17045381590594505]\n"
          ]
        }
      ],
      "source": [
        "# bentuk dictionary, bag-of-words corpus, dan kemudian Latent Semantic Indexing\n",
        "# dari kumpulan 3612 dokumen.\n",
        "NUM_LATENT_TOPICS = 200\n",
        "\n",
        "dictionary = Dictionary()\n",
        "bow_corpus = [dictionary.doc2bow(doc, allow_update = True) for doc in documents.values()]\n",
        "model = LsiModel(bow_corpus, num_topics = NUM_LATENT_TOPICS) # 200 latent topics\n",
        "\n",
        "# test melihat representasi vector dari sebuah dokumen & query\n",
        "def vector_rep(text):\n",
        "  rep = [topic_value for (_, topic_value) in model[dictionary.doc2bow(text)]]\n",
        "  return rep if len(rep) == NUM_LATENT_TOPICS else [0.] * NUM_LATENT_TOPICS\n",
        "\n",
        "print(vector_rep(documents[\"MED-329\"]))\n",
        "print(vector_rep(queries[\"PLAIN-2435\"]))"
      ]
    },
    {
      "cell_type": "code",
      "execution_count": 12,
      "metadata": {
        "colab": {
          "base_uri": "https://localhost:8080/"
        },
        "id": "Olu8CM8TIOpQ",
        "outputId": "a6d63adf-fc18-4576-db23-eecece306b6b"
      },
      "outputs": [
        {
          "name": "stderr",
          "output_type": "stream",
          "text": [
            "/home/hocky/.local/lib/python3.8/site-packages/scipy/spatial/distance.py:620: RuntimeWarning: invalid value encountered in double_scalars\n",
            "  dist = 1.0 - uv / np.sqrt(uu * vv)\n"
          ]
        },
        {
          "name": "stdout",
          "output_type": "stream",
          "text": [
            "(28277, 402)\n",
            "(28277,)\n"
          ]
        }
      ],
      "source": [
        "# kita ubah dataset menjadi terpisah X dan Y\n",
        "# dimana X adalah representasi gabungan query+document,\n",
        "# dan Y adalah label relevance untuk query dan document tersebut.\n",
        "# \n",
        "# Bagaimana cara membuat representasi vector dari gabungan query+document?\n",
        "# cara simple = concat(vector(query), vector(document)) + informasi lain\n",
        "# informasi lain -> cosine distance & jaccard similarity antara query & doc\n",
        "\n",
        "from scipy.spatial.distance import cosine\n",
        "\n",
        "def features(query, doc):\n",
        "  v_q = vector_rep(query)\n",
        "  v_d = vector_rep(doc)\n",
        "  q = set(query)\n",
        "  d = set(doc)\n",
        "  cosine_dist = cosine(v_q, v_d)\n",
        "  jaccard = len(q & d) / len(q | d)\n",
        "  return v_q + v_d + [jaccard] + [cosine_dist]\n",
        "\n",
        "X = []\n",
        "Y = []\n",
        "for (query, doc, rel) in dataset:\n",
        "  X.append(features(query, doc))\n",
        "  Y.append(rel)\n",
        "\n",
        "# ubah X dan Y ke format numpy array\n",
        "X = np.array(X)\n",
        "Y = np.array(Y)\n",
        "\n",
        "print(X.shape)\n",
        "print(Y.shape)"
      ]
    },
    {
      "cell_type": "markdown",
      "metadata": {
        "id": "VjyMMj2OYP4r"
      },
      "source": [
        "# Training the Ranker"
      ]
    },
    {
      "cell_type": "code",
      "execution_count": 15,
      "metadata": {
        "colab": {
          "base_uri": "https://localhost:8080/"
        },
        "id": "4RInI865LE9S",
        "outputId": "de910c73-d1f5-481f-f1b9-fd9136fe5a13"
      },
      "outputs": [
        {
          "name": "stderr",
          "output_type": "stream",
          "text": [
            "/home/hocky/.local/lib/python3.8/site-packages/lightgbm/sklearn.py:736: UserWarning: 'verbose' argument is deprecated and will be removed in a future release of LightGBM. Pass 'log_evaluation()' callback via 'callbacks' argument instead.\n",
            "  _log_warning(\"'verbose' argument is deprecated and will be removed in a future release of LightGBM. \"\n"
          ]
        },
        {
          "data": {
            "text/html": [
              "<style>#sk-container-id-1 {color: black;background-color: white;}#sk-container-id-1 pre{padding: 0;}#sk-container-id-1 div.sk-toggleable {background-color: white;}#sk-container-id-1 label.sk-toggleable__label {cursor: pointer;display: block;width: 100%;margin-bottom: 0;padding: 0.3em;box-sizing: border-box;text-align: center;}#sk-container-id-1 label.sk-toggleable__label-arrow:before {content: \"▸\";float: left;margin-right: 0.25em;color: #696969;}#sk-container-id-1 label.sk-toggleable__label-arrow:hover:before {color: black;}#sk-container-id-1 div.sk-estimator:hover label.sk-toggleable__label-arrow:before {color: black;}#sk-container-id-1 div.sk-toggleable__content {max-height: 0;max-width: 0;overflow: hidden;text-align: left;background-color: #f0f8ff;}#sk-container-id-1 div.sk-toggleable__content pre {margin: 0.2em;color: black;border-radius: 0.25em;background-color: #f0f8ff;}#sk-container-id-1 input.sk-toggleable__control:checked~div.sk-toggleable__content {max-height: 200px;max-width: 100%;overflow: auto;}#sk-container-id-1 input.sk-toggleable__control:checked~label.sk-toggleable__label-arrow:before {content: \"▾\";}#sk-container-id-1 div.sk-estimator input.sk-toggleable__control:checked~label.sk-toggleable__label {background-color: #d4ebff;}#sk-container-id-1 div.sk-label input.sk-toggleable__control:checked~label.sk-toggleable__label {background-color: #d4ebff;}#sk-container-id-1 input.sk-hidden--visually {border: 0;clip: rect(1px 1px 1px 1px);clip: rect(1px, 1px, 1px, 1px);height: 1px;margin: -1px;overflow: hidden;padding: 0;position: absolute;width: 1px;}#sk-container-id-1 div.sk-estimator {font-family: monospace;background-color: #f0f8ff;border: 1px dotted black;border-radius: 0.25em;box-sizing: border-box;margin-bottom: 0.5em;}#sk-container-id-1 div.sk-estimator:hover {background-color: #d4ebff;}#sk-container-id-1 div.sk-parallel-item::after {content: \"\";width: 100%;border-bottom: 1px solid gray;flex-grow: 1;}#sk-container-id-1 div.sk-label:hover label.sk-toggleable__label {background-color: #d4ebff;}#sk-container-id-1 div.sk-serial::before {content: \"\";position: absolute;border-left: 1px solid gray;box-sizing: border-box;top: 0;bottom: 0;left: 50%;z-index: 0;}#sk-container-id-1 div.sk-serial {display: flex;flex-direction: column;align-items: center;background-color: white;padding-right: 0.2em;padding-left: 0.2em;position: relative;}#sk-container-id-1 div.sk-item {position: relative;z-index: 1;}#sk-container-id-1 div.sk-parallel {display: flex;align-items: stretch;justify-content: center;background-color: white;position: relative;}#sk-container-id-1 div.sk-item::before, #sk-container-id-1 div.sk-parallel-item::before {content: \"\";position: absolute;border-left: 1px solid gray;box-sizing: border-box;top: 0;bottom: 0;left: 50%;z-index: -1;}#sk-container-id-1 div.sk-parallel-item {display: flex;flex-direction: column;z-index: 1;position: relative;background-color: white;}#sk-container-id-1 div.sk-parallel-item:first-child::after {align-self: flex-end;width: 50%;}#sk-container-id-1 div.sk-parallel-item:last-child::after {align-self: flex-start;width: 50%;}#sk-container-id-1 div.sk-parallel-item:only-child::after {width: 0;}#sk-container-id-1 div.sk-dashed-wrapped {border: 1px dashed gray;margin: 0 0.4em 0.5em 0.4em;box-sizing: border-box;padding-bottom: 0.4em;background-color: white;}#sk-container-id-1 div.sk-label label {font-family: monospace;font-weight: bold;display: inline-block;line-height: 1.2em;}#sk-container-id-1 div.sk-label-container {text-align: center;}#sk-container-id-1 div.sk-container {/* jupyter's `normalize.less` sets `[hidden] { display: none; }` but bootstrap.min.css set `[hidden] { display: none !important; }` so we also need the `!important` here to be able to override the default hidden behavior on the sphinx rendered scikit-learn.org. See: https://github.com/scikit-learn/scikit-learn/issues/21755 */display: inline-block !important;position: relative;}#sk-container-id-1 div.sk-text-repr-fallback {display: none;}</style><div id=\"sk-container-id-1\" class=\"sk-top-container\"><div class=\"sk-text-repr-fallback\"><pre>LGBMRanker(importance_type=&#x27;gain&#x27;, learning_rate=0.02, metric=&#x27;ndcg&#x27;,\n",
              "           num_leaves=40, objective=&#x27;lambdarank&#x27;)</pre><b>In a Jupyter environment, please rerun this cell to show the HTML representation or trust the notebook. <br />On GitHub, the HTML representation is unable to render, please try loading this page with nbviewer.org.</b></div><div class=\"sk-container\" hidden><div class=\"sk-item\"><div class=\"sk-estimator sk-toggleable\"><input class=\"sk-toggleable__control sk-hidden--visually\" id=\"sk-estimator-id-1\" type=\"checkbox\" checked><label for=\"sk-estimator-id-1\" class=\"sk-toggleable__label sk-toggleable__label-arrow\">LGBMRanker</label><div class=\"sk-toggleable__content\"><pre>LGBMRanker(importance_type=&#x27;gain&#x27;, learning_rate=0.02, metric=&#x27;ndcg&#x27;,\n",
              "           num_leaves=40, objective=&#x27;lambdarank&#x27;)</pre></div></div></div></div></div>"
            ],
            "text/plain": [
              "LGBMRanker(importance_type='gain', learning_rate=0.02, metric='ndcg',\n",
              "           num_leaves=40, objective='lambdarank')"
            ]
          },
          "execution_count": 15,
          "metadata": {},
          "output_type": "execute_result"
        }
      ],
      "source": [
        "import lightgbm\n",
        "\n",
        "ranker = lightgbm.LGBMRanker(\n",
        "    objective=\"lambdarank\",\n",
        "    boosting_type=\"gbdt\",\n",
        "    n_estimators=100,\n",
        "    importance_type=\"gain\",\n",
        "    metric=\"ndcg\",\n",
        "    num_leaves=40,\n",
        "    learning_rate=0.02,\n",
        "    max_depth=-1)\n",
        "\n",
        "# di contoh kali ini, kita tidak menggunakan validation set\n",
        "# jika ada yang ingin menggunakan validation set, silakan saja\n",
        "ranker.fit(X, Y,\n",
        "           group=group_qid_count,\n",
        "           verbose=10)\n"
      ]
    },
    {
      "cell_type": "code",
      "execution_count": 19,
      "metadata": {
        "colab": {
          "base_uri": "https://localhost:8080/"
        },
        "id": "gpj2mxPcZ6-1",
        "outputId": "57e5f0b1-cc81-4faf-fa7f-369d14524075"
      },
      "outputs": [
        {
          "data": {
            "text/plain": [
              "array([ 1.48178925, -0.08904565,  1.13443164, ..., -0.30604845,\n",
              "       -0.26121762, -0.83513002])"
            ]
          },
          "execution_count": 19,
          "metadata": {},
          "output_type": "execute_result"
        }
      ],
      "source": [
        "# test, prediksi terhadap training data itu sendiri\n",
        "ranker.predict(X)"
      ]
    },
    {
      "cell_type": "markdown",
      "metadata": {
        "id": "GuYkkYd8b0w4"
      },
      "source": [
        "# Predict Ranking for Unseen Q-D Paris"
      ]
    },
    {
      "cell_type": "code",
      "execution_count": 25,
      "metadata": {
        "id": "XYaWZtJFb0Tl"
      },
      "outputs": [],
      "source": [
        "query = \"how much cancer risk can be avoided through lifestyle change ?\"\n",
        "\n",
        "docs =[(\"D1\", \"dietary restriction reduces insulin-like growth factor levels modulates apoptosis cell proliferation tumor progression num defici pubmed ncbi abstract diet contributes one-third cancer deaths western world factors diet influence cancer elucidated reduction caloric intake dramatically slows cancer progression rodents major contribution dietary effects cancer insulin-like growth factor igf-i lowered dietary restriction dr humans rats igf-i modulates cell proliferation apoptosis tumorigenesis mechanisms protective effects dr depend reduction multifaceted growth factor test hypothesis igf-i restored dr ascertain lowering igf-i central slowing bladder cancer progression dr heterozygous num deficient mice received bladder carcinogen p-cresidine induce preneoplasia confirmation bladder urothelial preneoplasia mice divided groups ad libitum num dr num dr igf-i igf-i/dr serum igf-i lowered num dr completely restored igf-i/dr-treated mice recombinant igf-i administered osmotic minipumps tumor progression decreased dr restoration igf-i serum levels dr-treated mice increased stage cancers igf-i modulated tumor progression independent body weight rates apoptosis preneoplastic lesions num times higher dr-treated mice compared igf/dr ad libitum-treated mice administration igf-i dr-treated mice stimulated cell proliferation num fold hyperplastic foci conclusion dr lowered igf-i levels favoring apoptosis cell proliferation ultimately slowing tumor progression mechanistic study demonstrating igf-i supplementation abrogates protective effect dr neoplastic progression\"), \n",
        "       (\"D2\", \"study hard as your blood boils\"), \n",
        "       (\"D3\", \"processed meats risk childhood leukemia california usa pubmed ncbi abstract relation intake food items thought precursors inhibitors n-nitroso compounds noc risk leukemia investigated case-control study children birth age num years los angeles county california united states cases ascertained population-based tumor registry num num controls drawn friends random-digit dialing interviews obtained num cases num controls food items principal interest breakfast meats bacon sausage ham luncheon meats salami pastrami lunch meat corned beef bologna hot dogs oranges orange juice grapefruit grapefruit juice asked intake apples apple juice regular charcoal broiled meats milk coffee coke cola drinks usual consumption frequencies determined parents child risks adjusted risk factors persistent significant associations children's intake hot dogs odds ratio num num percent confidence interval ci num num num hot dogs month trend num fathers intake hot dogs num ci num num highest intake category trend num evidence fruit intake provided protection results compatible experimental animal literature hypothesis human noc intake leukemia risk potential biases data study hypothesis focused comprehensive epidemiologic studies warranted\"), \n",
        "       (\"D4\", \"long-term effects calorie protein restriction serum igf num igfbp num concentration humans summary reduced function mutations insulin/igf-i signaling pathway increase maximal lifespan health span species calorie restriction cr decreases serum igf num concentration num protects cancer slows aging rodents long-term effects cr adequate nutrition circulating igf num levels humans unknown report data long-term cr studies num num years showing severe cr malnutrition change igf num igf num igfbp num ratio levels humans contrast total free igf num concentrations significantly lower moderately protein-restricted individuals reducing protein intake average num kg num body weight day num kg num body weight day num weeks volunteers practicing cr resulted reduction serum igf num num ng ml num num ng ml num findings demonstrate unlike rodents long-term severe cr reduce serum igf num concentration igf num igfbp num ratio humans addition data provide evidence protein intake key determinant circulating igf num levels humans suggest reduced protein intake important component anticancer anti-aging dietary interventions\"), \n",
        "       (\"D5\", \"cancer preventable disease requires major lifestyle abstract year num million americans num million people worldwide expected diagnosed cancer disease commonly believed preventable num num cancer cases attributed genetic defects remaining num num roots environment lifestyle lifestyle factors include cigarette smoking diet fried foods red meat alcohol sun exposure environmental pollutants infections stress obesity physical inactivity evidence cancer-related deaths num num due tobacco num num linked diet num num due infections remaining percentage due factors radiation stress physical activity environmental pollutants cancer prevention requires smoking cessation increased ingestion fruits vegetables moderate alcohol caloric restriction exercise avoidance direct exposure sunlight minimal meat consumption grains vaccinations regular check-ups review present evidence inflammation link agents/factors cancer agents prevent addition provide evidence cancer preventable disease requires major lifestyle\")]\n",
        "\n",
        "# sekedar pembanding, ada bocoran: D3 & D5 relevant, D1 & D4 partially relevant, D2 tidak relevan\n",
        "\n",
        "# bentuk ke format numpy array\n",
        "X_unseen = []\n",
        "for doc_id, doc in docs:\n",
        "  X_unseen.append(features(query.split(), doc.split()))\n",
        "\n",
        "X_unseen = np.array(X_unseen)"
      ]
    },
    {
      "cell_type": "code",
      "execution_count": 26,
      "metadata": {
        "colab": {
          "base_uri": "https://localhost:8080/"
        },
        "id": "OiJVtq21egdm",
        "outputId": "012f514b-c015-47da-e47e-0c542468a1f1"
      },
      "outputs": [
        {
          "name": "stdout",
          "output_type": "stream",
          "text": [
            "[-0.50634151 -1.23094558 -0.26906659 -0.2199399   0.5800269 ]\n"
          ]
        }
      ],
      "source": [
        "# hitung scores\n",
        "scores = ranker.predict(X_unseen)\n",
        "print(scores)"
      ]
    },
    {
      "cell_type": "code",
      "execution_count": 24,
      "metadata": {
        "colab": {
          "base_uri": "https://localhost:8080/"
        },
        "id": "epwUKqORfeK-",
        "outputId": "db730411-5a74-4bd5-edf7-f3b4a1165920"
      },
      "outputs": [
        {
          "name": "stdout",
          "output_type": "stream",
          "text": [
            "query        : how much cancer risk can be avoided through lifestyle change ?\n",
            "SERP/Ranking :\n",
            "D5 0.5800269010043345\n",
            "D4 -0.21993990201382266\n",
            "D3 -0.2690665901801502\n",
            "D1 -0.5063415114859411\n",
            "D2 -1.230945580062515\n"
          ]
        }
      ],
      "source": [
        "# Ranking pada SERP\n",
        "\n",
        "# sekedar pembanding, ada bocoran: D3 & D5 relevant, D1 & D4 partially relevant, D2 tidak relevan\n",
        "# apakah LambdaMART berhasil merefleksikan hal ini?\n",
        "\n",
        "did_scores = [x for x in zip([did for (did, _) in docs], scores)]\n",
        "sorted_did_scores = sorted(did_scores, key = lambda tup: tup[1], reverse = True)\n",
        "\n",
        "print(\"query        :\", query)\n",
        "print(\"SERP/Ranking :\")\n",
        "for (did, score) in sorted_did_scores:\n",
        "  print(did, score)"
      ]
    }
  ],
  "metadata": {
    "colab": {
      "collapsed_sections": [],
      "provenance": [],
      "toc_visible": true
    },
    "kernelspec": {
      "display_name": "Python 3.8.10 64-bit",
      "language": "python",
      "name": "python3"
    },
    "language_info": {
      "codemirror_mode": {
        "name": "ipython",
        "version": 3
      },
      "file_extension": ".py",
      "mimetype": "text/x-python",
      "name": "python",
      "nbconvert_exporter": "python",
      "pygments_lexer": "ipython3",
      "version": "3.8.10"
    },
    "vscode": {
      "interpreter": {
        "hash": "e7370f93d1d0cde622a1f8e1c04877d8463912d04d973331ad4851f04de6915a"
      }
    }
  },
  "nbformat": 4,
  "nbformat_minor": 0
}
